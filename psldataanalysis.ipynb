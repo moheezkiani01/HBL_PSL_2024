{
  "cells": [
    {
      "cell_type": "markdown",
      "metadata": {},
      "source": [
        "## Moheez Azam Kiani\n",
        "## PSL 2024 Data Analysis \n",
        "\n"
      ]
    },
    {
      "cell_type": "code",
      "execution_count": 1,
      "metadata": {
        "id": "jMeaSloc0IsO"
      },
      "outputs": [],
      "source": [
        "import pandas as pd"
      ]
    },
    {
      "cell_type": "markdown",
      "metadata": {
        "id": "hBz47yM_0Isa"
      },
      "source": [
        "## Data Preprocessing:"
      ]
    },
    {
      "cell_type": "markdown",
      "metadata": {
        "id": "WvB5ejhD0Ise"
      },
      "source": [
        "##### **Data preprocessing** involves cleaning and transforming raw data into a useable format for analysis by handling missing values, scaling, and encoding."
      ]
    },
    {
      "cell_type": "markdown",
      "metadata": {
        "id": "0lxJVh6R0Isf"
      },
      "source": [
        "### Data Loading"
      ]
    },
    {
      "cell_type": "code",
      "execution_count": 2,
      "metadata": {
        "id": "81SPzkmE0Ish"
      },
      "outputs": [],
      "source": [
        "df=pd.read_csv(\"fact_batting_summary.csv\",encoding='latin-1')"
      ]
    },
    {
      "cell_type": "code",
      "execution_count": 3,
      "metadata": {
        "colab": {
          "base_uri": "https://localhost:8080/",
          "height": 310
        },
        "id": "7cSu_Pvj1Mw0",
        "outputId": "61258b38-e5ab-48de-a285-40b3751cff47"
      },
      "outputs": [
        {
          "data": {
            "text/html": [
              "<div>\n",
              "<style scoped>\n",
              "    .dataframe tbody tr th:only-of-type {\n",
              "        vertical-align: middle;\n",
              "    }\n",
              "\n",
              "    .dataframe tbody tr th {\n",
              "        vertical-align: top;\n",
              "    }\n",
              "\n",
              "    .dataframe thead th {\n",
              "        text-align: right;\n",
              "    }\n",
              "</style>\n",
              "<table border=\"1\" class=\"dataframe\">\n",
              "  <thead>\n",
              "    <tr style=\"text-align: right;\">\n",
              "      <th></th>\n",
              "      <th>batting_position</th>\n",
              "      <th>player_name</th>\n",
              "      <th>Out/Not Out</th>\n",
              "      <th>runs</th>\n",
              "      <th>balls</th>\n",
              "      <th>fours</th>\n",
              "      <th>sixes</th>\n",
              "      <th>strikeRate</th>\n",
              "      <th>match_id</th>\n",
              "      <th>match</th>\n",
              "      <th>team</th>\n",
              "    </tr>\n",
              "  </thead>\n",
              "  <tbody>\n",
              "    <tr>\n",
              "      <th>0</th>\n",
              "      <td>1</td>\n",
              "      <td>Sahibzada Farhan</td>\n",
              "      <td>1</td>\n",
              "      <td>57</td>\n",
              "      <td>36</td>\n",
              "      <td>8</td>\n",
              "      <td>1</td>\n",
              "      <td>158.33</td>\n",
              "      <td>m_01</td>\n",
              "      <td>Lahore Qalanders vs Islamabad United</td>\n",
              "      <td>Lahore Qalanders</td>\n",
              "    </tr>\n",
              "    <tr>\n",
              "      <th>1</th>\n",
              "      <td>3</td>\n",
              "      <td>Rassie van der Dussen</td>\n",
              "      <td>0</td>\n",
              "      <td>71</td>\n",
              "      <td>41</td>\n",
              "      <td>4</td>\n",
              "      <td>3</td>\n",
              "      <td>173.17</td>\n",
              "      <td>m_01</td>\n",
              "      <td>Lahore Qalanders vs Islamabad United</td>\n",
              "      <td>Lahore Qalanders</td>\n",
              "    </tr>\n",
              "    <tr>\n",
              "      <th>2</th>\n",
              "      <td>4</td>\n",
              "      <td>Abdullah Shafique</td>\n",
              "      <td>1</td>\n",
              "      <td>28</td>\n",
              "      <td>22</td>\n",
              "      <td>0</td>\n",
              "      <td>3</td>\n",
              "      <td>127.27</td>\n",
              "      <td>m_01</td>\n",
              "      <td>Lahore Qalanders vs Islamabad United</td>\n",
              "      <td>Lahore Qalanders</td>\n",
              "    </tr>\n",
              "    <tr>\n",
              "      <th>3</th>\n",
              "      <td>5</td>\n",
              "      <td>David Wiese</td>\n",
              "      <td>1</td>\n",
              "      <td>14</td>\n",
              "      <td>8</td>\n",
              "      <td>1</td>\n",
              "      <td>1</td>\n",
              "      <td>175.00</td>\n",
              "      <td>m_01</td>\n",
              "      <td>Lahore Qalanders vs Islamabad United</td>\n",
              "      <td>Lahore Qalanders</td>\n",
              "    </tr>\n",
              "    <tr>\n",
              "      <th>4</th>\n",
              "      <td>6</td>\n",
              "      <td>Shaheen Shah Afridi</td>\n",
              "      <td>1</td>\n",
              "      <td>0</td>\n",
              "      <td>1</td>\n",
              "      <td>0</td>\n",
              "      <td>0</td>\n",
              "      <td>0.00</td>\n",
              "      <td>m_01</td>\n",
              "      <td>Lahore Qalanders vs Islamabad United</td>\n",
              "      <td>Lahore Qalanders</td>\n",
              "    </tr>\n",
              "  </tbody>\n",
              "</table>\n",
              "</div>"
            ],
            "text/plain": [
              "   batting_position            player_name  Out/Not Out  runs  balls  fours  \\\n",
              "0                 1       Sahibzada Farhan            1    57     36      8   \n",
              "1                 3  Rassie van der Dussen            0    71     41      4   \n",
              "2                 4      Abdullah Shafique            1    28     22      0   \n",
              "3                 5            David Wiese            1    14      8      1   \n",
              "4                 6   Shaheen Shah Afridi             1     0      1      0   \n",
              "\n",
              "   sixes  strikeRate match_id                                 match  \\\n",
              "0      1      158.33     m_01  Lahore Qalanders vs Islamabad United   \n",
              "1      3      173.17     m_01  Lahore Qalanders vs Islamabad United   \n",
              "2      3      127.27     m_01  Lahore Qalanders vs Islamabad United   \n",
              "3      1      175.00     m_01  Lahore Qalanders vs Islamabad United   \n",
              "4      0        0.00     m_01  Lahore Qalanders vs Islamabad United   \n",
              "\n",
              "               team  \n",
              "0  Lahore Qalanders  \n",
              "1  Lahore Qalanders  \n",
              "2  Lahore Qalanders  \n",
              "3  Lahore Qalanders  \n",
              "4  Lahore Qalanders  "
            ]
          },
          "execution_count": 3,
          "metadata": {},
          "output_type": "execute_result"
        }
      ],
      "source": [
        "# Show the first few rows\n",
        "df.head(5)"
      ]
    },
    {
      "cell_type": "markdown",
      "metadata": {
        "id": "L-5jFee-0Isi"
      },
      "source": [
        "### Data Cleaning"
      ]
    },
    {
      "cell_type": "markdown",
      "metadata": {
        "id": "BsRyGLY80Isj"
      },
      "source": [
        "- #### Identify missing values:"
      ]
    },
    {
      "cell_type": "code",
      "execution_count": 4,
      "metadata": {
        "colab": {
          "base_uri": "https://localhost:8080/",
          "height": 429
        },
        "id": "HTxnHKqY0Ism",
        "outputId": "cfbdec9e-fa8b-43bc-ddb7-a69383e35589"
      },
      "outputs": [
        {
          "data": {
            "text/plain": [
              "batting_position    0\n",
              "player_name         0\n",
              "Out/Not Out         0\n",
              "runs                0\n",
              "balls               0\n",
              "fours               0\n",
              "sixes               0\n",
              "strikeRate          1\n",
              "match_id            0\n",
              "match               0\n",
              "team                0\n",
              "dtype: int64"
            ]
          },
          "execution_count": 4,
          "metadata": {},
          "output_type": "execute_result"
        }
      ],
      "source": [
        "df.isnull().sum()"
      ]
    },
    {
      "cell_type": "code",
      "execution_count": 5,
      "metadata": {
        "id": "xxSAHR2O3voy"
      },
      "outputs": [],
      "source": [
        "# Drop rows with missing values\n",
        "df = df.dropna()"
      ]
    },
    {
      "cell_type": "code",
      "execution_count": 6,
      "metadata": {
        "colab": {
          "base_uri": "https://localhost:8080/",
          "height": 429
        },
        "id": "hWOb_4Hz3x15",
        "outputId": "b5503106-ff50-405a-fa26-7c4f059e2de3"
      },
      "outputs": [
        {
          "data": {
            "text/plain": [
              "batting_position    0\n",
              "player_name         0\n",
              "Out/Not Out         0\n",
              "runs                0\n",
              "balls               0\n",
              "fours               0\n",
              "sixes               0\n",
              "strikeRate          0\n",
              "match_id            0\n",
              "match               0\n",
              "team                0\n",
              "dtype: int64"
            ]
          },
          "execution_count": 6,
          "metadata": {},
          "output_type": "execute_result"
        }
      ],
      "source": [
        "# Check that missing values droped or not\n",
        "df.isnull().sum()"
      ]
    },
    {
      "cell_type": "code",
      "execution_count": 7,
      "metadata": {
        "colab": {
          "base_uri": "https://localhost:8080/"
        },
        "id": "UYsT3IW63fR1",
        "outputId": "43712ba8-d38f-4270-ac12-7fcd4e1c0216"
      },
      "outputs": [
        {
          "data": {
            "text/plain": [
              "0"
            ]
          },
          "execution_count": 7,
          "metadata": {},
          "output_type": "execute_result"
        }
      ],
      "source": [
        "df.duplicated().sum()"
      ]
    },
    {
      "cell_type": "markdown",
      "metadata": {
        "id": "qx5VkZKi0Is0"
      },
      "source": [
        "- #### To preview First few rows:"
      ]
    },
    {
      "cell_type": "code",
      "execution_count": 8,
      "metadata": {
        "id": "fIcR6nzt0Is0",
        "outputId": "61beb3fb-499d-483f-df43-dfe488433b1f"
      },
      "outputs": [
        {
          "data": {
            "text/html": [
              "<div>\n",
              "<style scoped>\n",
              "    .dataframe tbody tr th:only-of-type {\n",
              "        vertical-align: middle;\n",
              "    }\n",
              "\n",
              "    .dataframe tbody tr th {\n",
              "        vertical-align: top;\n",
              "    }\n",
              "\n",
              "    .dataframe thead th {\n",
              "        text-align: right;\n",
              "    }\n",
              "</style>\n",
              "<table border=\"1\" class=\"dataframe\">\n",
              "  <thead>\n",
              "    <tr style=\"text-align: right;\">\n",
              "      <th></th>\n",
              "      <th>batting_position</th>\n",
              "      <th>player_name</th>\n",
              "      <th>Out/Not Out</th>\n",
              "      <th>runs</th>\n",
              "      <th>balls</th>\n",
              "      <th>fours</th>\n",
              "      <th>sixes</th>\n",
              "      <th>strikeRate</th>\n",
              "      <th>match_id</th>\n",
              "      <th>match</th>\n",
              "      <th>team</th>\n",
              "    </tr>\n",
              "  </thead>\n",
              "  <tbody>\n",
              "    <tr>\n",
              "      <th>0</th>\n",
              "      <td>1</td>\n",
              "      <td>Sahibzada Farhan</td>\n",
              "      <td>1</td>\n",
              "      <td>57</td>\n",
              "      <td>36</td>\n",
              "      <td>8</td>\n",
              "      <td>1</td>\n",
              "      <td>158.33</td>\n",
              "      <td>m_01</td>\n",
              "      <td>Lahore Qalanders vs Islamabad United</td>\n",
              "      <td>Lahore Qalanders</td>\n",
              "    </tr>\n",
              "    <tr>\n",
              "      <th>1</th>\n",
              "      <td>3</td>\n",
              "      <td>Rassie van der Dussen</td>\n",
              "      <td>0</td>\n",
              "      <td>71</td>\n",
              "      <td>41</td>\n",
              "      <td>4</td>\n",
              "      <td>3</td>\n",
              "      <td>173.17</td>\n",
              "      <td>m_01</td>\n",
              "      <td>Lahore Qalanders vs Islamabad United</td>\n",
              "      <td>Lahore Qalanders</td>\n",
              "    </tr>\n",
              "    <tr>\n",
              "      <th>2</th>\n",
              "      <td>4</td>\n",
              "      <td>Abdullah Shafique</td>\n",
              "      <td>1</td>\n",
              "      <td>28</td>\n",
              "      <td>22</td>\n",
              "      <td>0</td>\n",
              "      <td>3</td>\n",
              "      <td>127.27</td>\n",
              "      <td>m_01</td>\n",
              "      <td>Lahore Qalanders vs Islamabad United</td>\n",
              "      <td>Lahore Qalanders</td>\n",
              "    </tr>\n",
              "    <tr>\n",
              "      <th>3</th>\n",
              "      <td>5</td>\n",
              "      <td>David Wiese</td>\n",
              "      <td>1</td>\n",
              "      <td>14</td>\n",
              "      <td>8</td>\n",
              "      <td>1</td>\n",
              "      <td>1</td>\n",
              "      <td>175.00</td>\n",
              "      <td>m_01</td>\n",
              "      <td>Lahore Qalanders vs Islamabad United</td>\n",
              "      <td>Lahore Qalanders</td>\n",
              "    </tr>\n",
              "    <tr>\n",
              "      <th>4</th>\n",
              "      <td>6</td>\n",
              "      <td>Shaheen Shah Afridi</td>\n",
              "      <td>1</td>\n",
              "      <td>0</td>\n",
              "      <td>1</td>\n",
              "      <td>0</td>\n",
              "      <td>0</td>\n",
              "      <td>0.00</td>\n",
              "      <td>m_01</td>\n",
              "      <td>Lahore Qalanders vs Islamabad United</td>\n",
              "      <td>Lahore Qalanders</td>\n",
              "    </tr>\n",
              "  </tbody>\n",
              "</table>\n",
              "</div>"
            ],
            "text/plain": [
              "   batting_position            player_name  Out/Not Out  runs  balls  fours  \\\n",
              "0                 1       Sahibzada Farhan            1    57     36      8   \n",
              "1                 3  Rassie van der Dussen            0    71     41      4   \n",
              "2                 4      Abdullah Shafique            1    28     22      0   \n",
              "3                 5            David Wiese            1    14      8      1   \n",
              "4                 6   Shaheen Shah Afridi             1     0      1      0   \n",
              "\n",
              "   sixes  strikeRate match_id                                 match  \\\n",
              "0      1      158.33     m_01  Lahore Qalanders vs Islamabad United   \n",
              "1      3      173.17     m_01  Lahore Qalanders vs Islamabad United   \n",
              "2      3      127.27     m_01  Lahore Qalanders vs Islamabad United   \n",
              "3      1      175.00     m_01  Lahore Qalanders vs Islamabad United   \n",
              "4      0        0.00     m_01  Lahore Qalanders vs Islamabad United   \n",
              "\n",
              "               team  \n",
              "0  Lahore Qalanders  \n",
              "1  Lahore Qalanders  \n",
              "2  Lahore Qalanders  \n",
              "3  Lahore Qalanders  \n",
              "4  Lahore Qalanders  "
            ]
          },
          "execution_count": 8,
          "metadata": {},
          "output_type": "execute_result"
        }
      ],
      "source": [
        "df.head()"
      ]
    },
    {
      "cell_type": "markdown",
      "metadata": {
        "id": "-gc7mWJV0Is1"
      },
      "source": [
        "- #### To preview specific number of first rows:"
      ]
    },
    {
      "cell_type": "code",
      "execution_count": 9,
      "metadata": {
        "id": "iabJWFMP0Is2",
        "outputId": "6784f7bb-45b6-4efe-ba1b-9c5f35c641c4"
      },
      "outputs": [
        {
          "data": {
            "text/html": [
              "<div>\n",
              "<style scoped>\n",
              "    .dataframe tbody tr th:only-of-type {\n",
              "        vertical-align: middle;\n",
              "    }\n",
              "\n",
              "    .dataframe tbody tr th {\n",
              "        vertical-align: top;\n",
              "    }\n",
              "\n",
              "    .dataframe thead th {\n",
              "        text-align: right;\n",
              "    }\n",
              "</style>\n",
              "<table border=\"1\" class=\"dataframe\">\n",
              "  <thead>\n",
              "    <tr style=\"text-align: right;\">\n",
              "      <th></th>\n",
              "      <th>batting_position</th>\n",
              "      <th>player_name</th>\n",
              "      <th>Out/Not Out</th>\n",
              "      <th>runs</th>\n",
              "      <th>balls</th>\n",
              "      <th>fours</th>\n",
              "      <th>sixes</th>\n",
              "      <th>strikeRate</th>\n",
              "      <th>match_id</th>\n",
              "      <th>match</th>\n",
              "      <th>team</th>\n",
              "    </tr>\n",
              "  </thead>\n",
              "  <tbody>\n",
              "    <tr>\n",
              "      <th>0</th>\n",
              "      <td>1</td>\n",
              "      <td>Sahibzada Farhan</td>\n",
              "      <td>1</td>\n",
              "      <td>57</td>\n",
              "      <td>36</td>\n",
              "      <td>8</td>\n",
              "      <td>1</td>\n",
              "      <td>158.33</td>\n",
              "      <td>m_01</td>\n",
              "      <td>Lahore Qalanders vs Islamabad United</td>\n",
              "      <td>Lahore Qalanders</td>\n",
              "    </tr>\n",
              "    <tr>\n",
              "      <th>1</th>\n",
              "      <td>3</td>\n",
              "      <td>Rassie van der Dussen</td>\n",
              "      <td>0</td>\n",
              "      <td>71</td>\n",
              "      <td>41</td>\n",
              "      <td>4</td>\n",
              "      <td>3</td>\n",
              "      <td>173.17</td>\n",
              "      <td>m_01</td>\n",
              "      <td>Lahore Qalanders vs Islamabad United</td>\n",
              "      <td>Lahore Qalanders</td>\n",
              "    </tr>\n",
              "    <tr>\n",
              "      <th>2</th>\n",
              "      <td>4</td>\n",
              "      <td>Abdullah Shafique</td>\n",
              "      <td>1</td>\n",
              "      <td>28</td>\n",
              "      <td>22</td>\n",
              "      <td>0</td>\n",
              "      <td>3</td>\n",
              "      <td>127.27</td>\n",
              "      <td>m_01</td>\n",
              "      <td>Lahore Qalanders vs Islamabad United</td>\n",
              "      <td>Lahore Qalanders</td>\n",
              "    </tr>\n",
              "    <tr>\n",
              "      <th>3</th>\n",
              "      <td>5</td>\n",
              "      <td>David Wiese</td>\n",
              "      <td>1</td>\n",
              "      <td>14</td>\n",
              "      <td>8</td>\n",
              "      <td>1</td>\n",
              "      <td>1</td>\n",
              "      <td>175.00</td>\n",
              "      <td>m_01</td>\n",
              "      <td>Lahore Qalanders vs Islamabad United</td>\n",
              "      <td>Lahore Qalanders</td>\n",
              "    </tr>\n",
              "    <tr>\n",
              "      <th>4</th>\n",
              "      <td>6</td>\n",
              "      <td>Shaheen Shah Afridi</td>\n",
              "      <td>1</td>\n",
              "      <td>0</td>\n",
              "      <td>1</td>\n",
              "      <td>0</td>\n",
              "      <td>0</td>\n",
              "      <td>0.00</td>\n",
              "      <td>m_01</td>\n",
              "      <td>Lahore Qalanders vs Islamabad United</td>\n",
              "      <td>Lahore Qalanders</td>\n",
              "    </tr>\n",
              "    <tr>\n",
              "      <th>5</th>\n",
              "      <td>1</td>\n",
              "      <td>Colin Munro</td>\n",
              "      <td>1</td>\n",
              "      <td>5</td>\n",
              "      <td>11</td>\n",
              "      <td>1</td>\n",
              "      <td>0</td>\n",
              "      <td>45.45</td>\n",
              "      <td>m_01</td>\n",
              "      <td>Lahore Qalanders vs Islamabad United</td>\n",
              "      <td>Islamabad United</td>\n",
              "    </tr>\n",
              "    <tr>\n",
              "      <th>6</th>\n",
              "      <td>2</td>\n",
              "      <td>Alex Hales</td>\n",
              "      <td>1</td>\n",
              "      <td>36</td>\n",
              "      <td>28</td>\n",
              "      <td>5</td>\n",
              "      <td>1</td>\n",
              "      <td>128.57</td>\n",
              "      <td>m_01</td>\n",
              "      <td>Lahore Qalanders vs Islamabad United</td>\n",
              "      <td>Islamabad United</td>\n",
              "    </tr>\n",
              "    <tr>\n",
              "      <th>7</th>\n",
              "      <td>3</td>\n",
              "      <td>Shadab Khan</td>\n",
              "      <td>0</td>\n",
              "      <td>74</td>\n",
              "      <td>41</td>\n",
              "      <td>6</td>\n",
              "      <td>5</td>\n",
              "      <td>180.49</td>\n",
              "      <td>m_01</td>\n",
              "      <td>Lahore Qalanders vs Islamabad United</td>\n",
              "      <td>Islamabad United</td>\n",
              "    </tr>\n",
              "  </tbody>\n",
              "</table>\n",
              "</div>"
            ],
            "text/plain": [
              "   batting_position            player_name  Out/Not Out  runs  balls  fours  \\\n",
              "0                 1       Sahibzada Farhan            1    57     36      8   \n",
              "1                 3  Rassie van der Dussen            0    71     41      4   \n",
              "2                 4      Abdullah Shafique            1    28     22      0   \n",
              "3                 5            David Wiese            1    14      8      1   \n",
              "4                 6   Shaheen Shah Afridi             1     0      1      0   \n",
              "5                 1            Colin Munro            1     5     11      1   \n",
              "6                 2             Alex Hales            1    36     28      5   \n",
              "7                 3           Shadab Khan             0    74     41      6   \n",
              "\n",
              "   sixes  strikeRate match_id                                 match  \\\n",
              "0      1      158.33     m_01  Lahore Qalanders vs Islamabad United   \n",
              "1      3      173.17     m_01  Lahore Qalanders vs Islamabad United   \n",
              "2      3      127.27     m_01  Lahore Qalanders vs Islamabad United   \n",
              "3      1      175.00     m_01  Lahore Qalanders vs Islamabad United   \n",
              "4      0        0.00     m_01  Lahore Qalanders vs Islamabad United   \n",
              "5      0       45.45     m_01  Lahore Qalanders vs Islamabad United   \n",
              "6      1      128.57     m_01  Lahore Qalanders vs Islamabad United   \n",
              "7      5      180.49     m_01  Lahore Qalanders vs Islamabad United   \n",
              "\n",
              "               team  \n",
              "0  Lahore Qalanders  \n",
              "1  Lahore Qalanders  \n",
              "2  Lahore Qalanders  \n",
              "3  Lahore Qalanders  \n",
              "4  Lahore Qalanders  \n",
              "5  Islamabad United  \n",
              "6  Islamabad United  \n",
              "7  Islamabad United  "
            ]
          },
          "execution_count": 9,
          "metadata": {},
          "output_type": "execute_result"
        }
      ],
      "source": [
        "df.head(8)"
      ]
    },
    {
      "cell_type": "markdown",
      "metadata": {
        "id": "NTzBhyu70Is2"
      },
      "source": [
        "- #### To view last few rows:"
      ]
    },
    {
      "cell_type": "code",
      "execution_count": 10,
      "metadata": {
        "id": "Xqzsjhof0Is3",
        "outputId": "7efac6a3-de77-4a09-f1b2-71d4eb12c3e5"
      },
      "outputs": [
        {
          "data": {
            "text/html": [
              "<div>\n",
              "<style scoped>\n",
              "    .dataframe tbody tr th:only-of-type {\n",
              "        vertical-align: middle;\n",
              "    }\n",
              "\n",
              "    .dataframe tbody tr th {\n",
              "        vertical-align: top;\n",
              "    }\n",
              "\n",
              "    .dataframe thead th {\n",
              "        text-align: right;\n",
              "    }\n",
              "</style>\n",
              "<table border=\"1\" class=\"dataframe\">\n",
              "  <thead>\n",
              "    <tr style=\"text-align: right;\">\n",
              "      <th></th>\n",
              "      <th>batting_position</th>\n",
              "      <th>player_name</th>\n",
              "      <th>Out/Not Out</th>\n",
              "      <th>runs</th>\n",
              "      <th>balls</th>\n",
              "      <th>fours</th>\n",
              "      <th>sixes</th>\n",
              "      <th>strikeRate</th>\n",
              "      <th>match_id</th>\n",
              "      <th>match</th>\n",
              "      <th>team</th>\n",
              "    </tr>\n",
              "  </thead>\n",
              "  <tbody>\n",
              "    <tr>\n",
              "      <th>513</th>\n",
              "      <td>7</td>\n",
              "      <td>Usama Mir</td>\n",
              "      <td>1</td>\n",
              "      <td>12</td>\n",
              "      <td>3</td>\n",
              "      <td>0</td>\n",
              "      <td>2</td>\n",
              "      <td>400.00</td>\n",
              "      <td>m-09</td>\n",
              "      <td>Multan Sultans vs Peshawar Zalmi</td>\n",
              "      <td>Multan Sultans</td>\n",
              "    </tr>\n",
              "    <tr>\n",
              "      <th>514</th>\n",
              "      <td>8</td>\n",
              "      <td>David Willey</td>\n",
              "      <td>1</td>\n",
              "      <td>0</td>\n",
              "      <td>1</td>\n",
              "      <td>0</td>\n",
              "      <td>0</td>\n",
              "      <td>0.00</td>\n",
              "      <td>m-09</td>\n",
              "      <td>Multan Sultans vs Peshawar Zalmi</td>\n",
              "      <td>Multan Sultans</td>\n",
              "    </tr>\n",
              "    <tr>\n",
              "      <th>515</th>\n",
              "      <td>9</td>\n",
              "      <td>Mohammad Abbas Afridi</td>\n",
              "      <td>1</td>\n",
              "      <td>11</td>\n",
              "      <td>6</td>\n",
              "      <td>2</td>\n",
              "      <td>0</td>\n",
              "      <td>183.33</td>\n",
              "      <td>m-09</td>\n",
              "      <td>Multan Sultans vs Peshawar Zalmi</td>\n",
              "      <td>Multan Sultans</td>\n",
              "    </tr>\n",
              "    <tr>\n",
              "      <th>516</th>\n",
              "      <td>10</td>\n",
              "      <td>Mohammad Ali</td>\n",
              "      <td>0</td>\n",
              "      <td>1</td>\n",
              "      <td>4</td>\n",
              "      <td>0</td>\n",
              "      <td>0</td>\n",
              "      <td>25.00</td>\n",
              "      <td>m-09</td>\n",
              "      <td>Multan Sultans vs Peshawar Zalmi</td>\n",
              "      <td>Multan Sultans</td>\n",
              "    </tr>\n",
              "    <tr>\n",
              "      <th>517</th>\n",
              "      <td>11</td>\n",
              "      <td>Shahnawaz Dahani</td>\n",
              "      <td>1</td>\n",
              "      <td>0</td>\n",
              "      <td>1</td>\n",
              "      <td>0</td>\n",
              "      <td>0</td>\n",
              "      <td>0.00</td>\n",
              "      <td>m-09</td>\n",
              "      <td>Multan Sultans vs Peshawar Zalmi</td>\n",
              "      <td>Multan Sultans</td>\n",
              "    </tr>\n",
              "  </tbody>\n",
              "</table>\n",
              "</div>"
            ],
            "text/plain": [
              "     batting_position            player_name  Out/Not Out  runs  balls  fours  \\\n",
              "513                 7              Usama Mir            1    12      3      0   \n",
              "514                 8           David Willey            1     0      1      0   \n",
              "515                 9  Mohammad Abbas Afridi            1    11      6      2   \n",
              "516                10           Mohammad Ali            0     1      4      0   \n",
              "517                11       Shahnawaz Dahani            1     0      1      0   \n",
              "\n",
              "     sixes  strikeRate match_id                             match  \\\n",
              "513      2      400.00     m-09  Multan Sultans vs Peshawar Zalmi   \n",
              "514      0        0.00     m-09  Multan Sultans vs Peshawar Zalmi   \n",
              "515      0      183.33     m-09  Multan Sultans vs Peshawar Zalmi   \n",
              "516      0       25.00     m-09  Multan Sultans vs Peshawar Zalmi   \n",
              "517      0        0.00     m-09  Multan Sultans vs Peshawar Zalmi   \n",
              "\n",
              "               team  \n",
              "513  Multan Sultans  \n",
              "514  Multan Sultans  \n",
              "515  Multan Sultans  \n",
              "516  Multan Sultans  \n",
              "517  Multan Sultans  "
            ]
          },
          "execution_count": 10,
          "metadata": {},
          "output_type": "execute_result"
        }
      ],
      "source": [
        "df.tail()"
      ]
    },
    {
      "cell_type": "markdown",
      "metadata": {
        "id": "3jJ-HIYI0Is4"
      },
      "source": [
        "- #### To view specific number of last rows:"
      ]
    },
    {
      "cell_type": "code",
      "execution_count": 11,
      "metadata": {
        "id": "sbga5ViA0Is5",
        "outputId": "2dbb267e-a84d-4956-87bd-80f795b8ed7d"
      },
      "outputs": [
        {
          "data": {
            "text/html": [
              "<div>\n",
              "<style scoped>\n",
              "    .dataframe tbody tr th:only-of-type {\n",
              "        vertical-align: middle;\n",
              "    }\n",
              "\n",
              "    .dataframe tbody tr th {\n",
              "        vertical-align: top;\n",
              "    }\n",
              "\n",
              "    .dataframe thead th {\n",
              "        text-align: right;\n",
              "    }\n",
              "</style>\n",
              "<table border=\"1\" class=\"dataframe\">\n",
              "  <thead>\n",
              "    <tr style=\"text-align: right;\">\n",
              "      <th></th>\n",
              "      <th>batting_position</th>\n",
              "      <th>player_name</th>\n",
              "      <th>Out/Not Out</th>\n",
              "      <th>runs</th>\n",
              "      <th>balls</th>\n",
              "      <th>fours</th>\n",
              "      <th>sixes</th>\n",
              "      <th>strikeRate</th>\n",
              "      <th>match_id</th>\n",
              "      <th>match</th>\n",
              "      <th>team</th>\n",
              "    </tr>\n",
              "  </thead>\n",
              "  <tbody>\n",
              "    <tr>\n",
              "      <th>511</th>\n",
              "      <td>5</td>\n",
              "      <td>Khushdil Shah</td>\n",
              "      <td>1</td>\n",
              "      <td>5</td>\n",
              "      <td>5</td>\n",
              "      <td>0</td>\n",
              "      <td>0</td>\n",
              "      <td>100.00</td>\n",
              "      <td>m-09</td>\n",
              "      <td>Multan Sultans vs Peshawar Zalmi</td>\n",
              "      <td>Multan Sultans</td>\n",
              "    </tr>\n",
              "    <tr>\n",
              "      <th>512</th>\n",
              "      <td>6</td>\n",
              "      <td>Iftikhar Ahmed</td>\n",
              "      <td>1</td>\n",
              "      <td>16</td>\n",
              "      <td>8</td>\n",
              "      <td>2</td>\n",
              "      <td>1</td>\n",
              "      <td>200.00</td>\n",
              "      <td>m-09</td>\n",
              "      <td>Multan Sultans vs Peshawar Zalmi</td>\n",
              "      <td>Multan Sultans</td>\n",
              "    </tr>\n",
              "    <tr>\n",
              "      <th>513</th>\n",
              "      <td>7</td>\n",
              "      <td>Usama Mir</td>\n",
              "      <td>1</td>\n",
              "      <td>12</td>\n",
              "      <td>3</td>\n",
              "      <td>0</td>\n",
              "      <td>2</td>\n",
              "      <td>400.00</td>\n",
              "      <td>m-09</td>\n",
              "      <td>Multan Sultans vs Peshawar Zalmi</td>\n",
              "      <td>Multan Sultans</td>\n",
              "    </tr>\n",
              "    <tr>\n",
              "      <th>514</th>\n",
              "      <td>8</td>\n",
              "      <td>David Willey</td>\n",
              "      <td>1</td>\n",
              "      <td>0</td>\n",
              "      <td>1</td>\n",
              "      <td>0</td>\n",
              "      <td>0</td>\n",
              "      <td>0.00</td>\n",
              "      <td>m-09</td>\n",
              "      <td>Multan Sultans vs Peshawar Zalmi</td>\n",
              "      <td>Multan Sultans</td>\n",
              "    </tr>\n",
              "    <tr>\n",
              "      <th>515</th>\n",
              "      <td>9</td>\n",
              "      <td>Mohammad Abbas Afridi</td>\n",
              "      <td>1</td>\n",
              "      <td>11</td>\n",
              "      <td>6</td>\n",
              "      <td>2</td>\n",
              "      <td>0</td>\n",
              "      <td>183.33</td>\n",
              "      <td>m-09</td>\n",
              "      <td>Multan Sultans vs Peshawar Zalmi</td>\n",
              "      <td>Multan Sultans</td>\n",
              "    </tr>\n",
              "    <tr>\n",
              "      <th>516</th>\n",
              "      <td>10</td>\n",
              "      <td>Mohammad Ali</td>\n",
              "      <td>0</td>\n",
              "      <td>1</td>\n",
              "      <td>4</td>\n",
              "      <td>0</td>\n",
              "      <td>0</td>\n",
              "      <td>25.00</td>\n",
              "      <td>m-09</td>\n",
              "      <td>Multan Sultans vs Peshawar Zalmi</td>\n",
              "      <td>Multan Sultans</td>\n",
              "    </tr>\n",
              "    <tr>\n",
              "      <th>517</th>\n",
              "      <td>11</td>\n",
              "      <td>Shahnawaz Dahani</td>\n",
              "      <td>1</td>\n",
              "      <td>0</td>\n",
              "      <td>1</td>\n",
              "      <td>0</td>\n",
              "      <td>0</td>\n",
              "      <td>0.00</td>\n",
              "      <td>m-09</td>\n",
              "      <td>Multan Sultans vs Peshawar Zalmi</td>\n",
              "      <td>Multan Sultans</td>\n",
              "    </tr>\n",
              "  </tbody>\n",
              "</table>\n",
              "</div>"
            ],
            "text/plain": [
              "     batting_position            player_name  Out/Not Out  runs  balls  fours  \\\n",
              "511                 5          Khushdil Shah            1     5      5      0   \n",
              "512                 6         Iftikhar Ahmed            1    16      8      2   \n",
              "513                 7              Usama Mir            1    12      3      0   \n",
              "514                 8           David Willey            1     0      1      0   \n",
              "515                 9  Mohammad Abbas Afridi            1    11      6      2   \n",
              "516                10           Mohammad Ali            0     1      4      0   \n",
              "517                11       Shahnawaz Dahani            1     0      1      0   \n",
              "\n",
              "     sixes  strikeRate match_id                             match  \\\n",
              "511      0      100.00     m-09  Multan Sultans vs Peshawar Zalmi   \n",
              "512      1      200.00     m-09  Multan Sultans vs Peshawar Zalmi   \n",
              "513      2      400.00     m-09  Multan Sultans vs Peshawar Zalmi   \n",
              "514      0        0.00     m-09  Multan Sultans vs Peshawar Zalmi   \n",
              "515      0      183.33     m-09  Multan Sultans vs Peshawar Zalmi   \n",
              "516      0       25.00     m-09  Multan Sultans vs Peshawar Zalmi   \n",
              "517      0        0.00     m-09  Multan Sultans vs Peshawar Zalmi   \n",
              "\n",
              "               team  \n",
              "511  Multan Sultans  \n",
              "512  Multan Sultans  \n",
              "513  Multan Sultans  \n",
              "514  Multan Sultans  \n",
              "515  Multan Sultans  \n",
              "516  Multan Sultans  \n",
              "517  Multan Sultans  "
            ]
          },
          "execution_count": 11,
          "metadata": {},
          "output_type": "execute_result"
        }
      ],
      "source": [
        "df.tail(7)"
      ]
    },
    {
      "cell_type": "code",
      "execution_count": 12,
      "metadata": {
        "id": "rTATLKO10Is5",
        "outputId": "dabb9a4d-1c6e-46b7-8b9c-9abcd6c43e43"
      },
      "outputs": [
        {
          "data": {
            "text/html": [
              "<div>\n",
              "<style scoped>\n",
              "    .dataframe tbody tr th:only-of-type {\n",
              "        vertical-align: middle;\n",
              "    }\n",
              "\n",
              "    .dataframe tbody tr th {\n",
              "        vertical-align: top;\n",
              "    }\n",
              "\n",
              "    .dataframe thead th {\n",
              "        text-align: right;\n",
              "    }\n",
              "</style>\n",
              "<table border=\"1\" class=\"dataframe\">\n",
              "  <thead>\n",
              "    <tr style=\"text-align: right;\">\n",
              "      <th></th>\n",
              "      <th>batting_position</th>\n",
              "      <th>player_name</th>\n",
              "      <th>Out/Not Out</th>\n",
              "      <th>runs</th>\n",
              "      <th>balls</th>\n",
              "      <th>fours</th>\n",
              "      <th>sixes</th>\n",
              "      <th>strikeRate</th>\n",
              "      <th>match_id</th>\n",
              "      <th>match</th>\n",
              "      <th>team</th>\n",
              "    </tr>\n",
              "  </thead>\n",
              "  <tbody>\n",
              "    <tr>\n",
              "      <th>259</th>\n",
              "      <td>7</td>\n",
              "      <td>Aamir Jamal</td>\n",
              "      <td>1</td>\n",
              "      <td>87</td>\n",
              "      <td>49</td>\n",
              "      <td>8</td>\n",
              "      <td>6</td>\n",
              "      <td>177.55</td>\n",
              "      <td>m_20</td>\n",
              "      <td>Islamabad United vs Peshawar Zalmi</td>\n",
              "      <td>Peshawar Zalmi</td>\n",
              "    </tr>\n",
              "    <tr>\n",
              "      <th>99</th>\n",
              "      <td>5</td>\n",
              "      <td>Jahandad Khan</td>\n",
              "      <td>1</td>\n",
              "      <td>16</td>\n",
              "      <td>9</td>\n",
              "      <td>0</td>\n",
              "      <td>1</td>\n",
              "      <td>177.78</td>\n",
              "      <td>m_07</td>\n",
              "      <td>Multan Sultans vs Lahore Qalanders</td>\n",
              "      <td>Lahore Qalanders</td>\n",
              "    </tr>\n",
              "    <tr>\n",
              "      <th>185</th>\n",
              "      <td>10</td>\n",
              "      <td>Naseem Shah</td>\n",
              "      <td>0</td>\n",
              "      <td>8</td>\n",
              "      <td>3</td>\n",
              "      <td>0</td>\n",
              "      <td>1</td>\n",
              "      <td>266.67</td>\n",
              "      <td>m_13</td>\n",
              "      <td>Peshawar Zalmi vs Islamabad United</td>\n",
              "      <td>Islamabad United</td>\n",
              "    </tr>\n",
              "    <tr>\n",
              "      <th>507</th>\n",
              "      <td>1</td>\n",
              "      <td>Yasir Khan</td>\n",
              "      <td>1</td>\n",
              "      <td>43</td>\n",
              "      <td>37</td>\n",
              "      <td>6</td>\n",
              "      <td>0</td>\n",
              "      <td>116.22</td>\n",
              "      <td>m-09</td>\n",
              "      <td>Multan Sultans vs Peshawar Zalmi</td>\n",
              "      <td>Multan Sultans</td>\n",
              "    </tr>\n",
              "    <tr>\n",
              "      <th>260</th>\n",
              "      <td>8</td>\n",
              "      <td>Luke Wood</td>\n",
              "      <td>1</td>\n",
              "      <td>2</td>\n",
              "      <td>3</td>\n",
              "      <td>0</td>\n",
              "      <td>0</td>\n",
              "      <td>66.67</td>\n",
              "      <td>m_20</td>\n",
              "      <td>Islamabad United vs Peshawar Zalmi</td>\n",
              "      <td>Peshawar Zalmi</td>\n",
              "    </tr>\n",
              "    <tr>\n",
              "      <th>198</th>\n",
              "      <td>6</td>\n",
              "      <td>Shaheen Shah Afridi</td>\n",
              "      <td>1</td>\n",
              "      <td>9</td>\n",
              "      <td>5</td>\n",
              "      <td>0</td>\n",
              "      <td>1</td>\n",
              "      <td>180.00</td>\n",
              "      <td>m_14</td>\n",
              "      <td>Lahore Qalanders vs Multan Sultans</td>\n",
              "      <td>Lahore Qalanders</td>\n",
              "    </tr>\n",
              "    <tr>\n",
              "      <th>197</th>\n",
              "      <td>5</td>\n",
              "      <td>Sikandar Raza</td>\n",
              "      <td>1</td>\n",
              "      <td>17</td>\n",
              "      <td>7</td>\n",
              "      <td>0</td>\n",
              "      <td>2</td>\n",
              "      <td>242.86</td>\n",
              "      <td>m_14</td>\n",
              "      <td>Lahore Qalanders vs Multan Sultans</td>\n",
              "      <td>Lahore Qalanders</td>\n",
              "    </tr>\n",
              "    <tr>\n",
              "      <th>161</th>\n",
              "      <td>1</td>\n",
              "      <td>Sahibzada Farhan</td>\n",
              "      <td>1</td>\n",
              "      <td>15</td>\n",
              "      <td>12</td>\n",
              "      <td>3</td>\n",
              "      <td>0</td>\n",
              "      <td>125.00</td>\n",
              "      <td>m_12</td>\n",
              "      <td>Peshawar Zalmi vs Lahore Qalanders</td>\n",
              "      <td>Lahore Qalanders</td>\n",
              "    </tr>\n",
              "    <tr>\n",
              "      <th>281</th>\n",
              "      <td>4</td>\n",
              "      <td>Rilee Rossouw</td>\n",
              "      <td>1</td>\n",
              "      <td>10</td>\n",
              "      <td>16</td>\n",
              "      <td>0</td>\n",
              "      <td>0</td>\n",
              "      <td>62.50</td>\n",
              "      <td>m_22</td>\n",
              "      <td>Quetta Gladiators vs Karachi Kings</td>\n",
              "      <td>Quetta Gladiators</td>\n",
              "    </tr>\n",
              "    <tr>\n",
              "      <th>104</th>\n",
              "      <td>3</td>\n",
              "      <td>Salman Ali Agha</td>\n",
              "      <td>1</td>\n",
              "      <td>33</td>\n",
              "      <td>23</td>\n",
              "      <td>5</td>\n",
              "      <td>0</td>\n",
              "      <td>143.48</td>\n",
              "      <td>m_08</td>\n",
              "      <td>Quetta Gladiators vs Islamabad United</td>\n",
              "      <td>Islamabad United</td>\n",
              "    </tr>\n",
              "  </tbody>\n",
              "</table>\n",
              "</div>"
            ],
            "text/plain": [
              "     batting_position           player_name  Out/Not Out  runs  balls  fours  \\\n",
              "259                 7           Aamir Jamal            1    87     49      8   \n",
              "99                  5         Jahandad Khan            1    16      9      0   \n",
              "185                10           Naseem Shah            0     8      3      0   \n",
              "507                 1            Yasir Khan            1    43     37      6   \n",
              "260                 8             Luke Wood            1     2      3      0   \n",
              "198                 6  Shaheen Shah Afridi             1     9      5      0   \n",
              "197                 5         Sikandar Raza            1    17      7      0   \n",
              "161                 1      Sahibzada Farhan            1    15     12      3   \n",
              "281                 4        Rilee Rossouw             1    10     16      0   \n",
              "104                 3       Salman Ali Agha            1    33     23      5   \n",
              "\n",
              "     sixes  strikeRate match_id                                  match  \\\n",
              "259      6      177.55     m_20     Islamabad United vs Peshawar Zalmi   \n",
              "99       1      177.78     m_07     Multan Sultans vs Lahore Qalanders   \n",
              "185      1      266.67     m_13     Peshawar Zalmi vs Islamabad United   \n",
              "507      0      116.22     m-09       Multan Sultans vs Peshawar Zalmi   \n",
              "260      0       66.67     m_20     Islamabad United vs Peshawar Zalmi   \n",
              "198      1      180.00     m_14     Lahore Qalanders vs Multan Sultans   \n",
              "197      2      242.86     m_14     Lahore Qalanders vs Multan Sultans   \n",
              "161      0      125.00     m_12     Peshawar Zalmi vs Lahore Qalanders   \n",
              "281      0       62.50     m_22     Quetta Gladiators vs Karachi Kings   \n",
              "104      0      143.48     m_08  Quetta Gladiators vs Islamabad United   \n",
              "\n",
              "                  team  \n",
              "259     Peshawar Zalmi  \n",
              "99    Lahore Qalanders  \n",
              "185   Islamabad United  \n",
              "507     Multan Sultans  \n",
              "260     Peshawar Zalmi  \n",
              "198   Lahore Qalanders  \n",
              "197   Lahore Qalanders  \n",
              "161   Lahore Qalanders  \n",
              "281  Quetta Gladiators  \n",
              "104   Islamabad United  "
            ]
          },
          "execution_count": 12,
          "metadata": {},
          "output_type": "execute_result"
        }
      ],
      "source": [
        "df.sample(10)"
      ]
    },
    {
      "cell_type": "markdown",
      "metadata": {
        "id": "G_mCXK-z0Is7"
      },
      "source": [
        "- #### To check summary of DataFrame:"
      ]
    },
    {
      "cell_type": "code",
      "execution_count": 13,
      "metadata": {
        "id": "gcLaSedt0Is7",
        "outputId": "37dffafa-b9b5-4095-f70c-7b0c0d9de4aa"
      },
      "outputs": [
        {
          "name": "stdout",
          "output_type": "stream",
          "text": [
            "<class 'pandas.core.frame.DataFrame'>\n",
            "Int64Index: 517 entries, 0 to 517\n",
            "Data columns (total 11 columns):\n",
            " #   Column            Non-Null Count  Dtype  \n",
            "---  ------            --------------  -----  \n",
            " 0   batting_position  517 non-null    int64  \n",
            " 1   player_name       517 non-null    object \n",
            " 2   Out/Not Out       517 non-null    int64  \n",
            " 3   runs              517 non-null    int64  \n",
            " 4   balls             517 non-null    int64  \n",
            " 5   fours             517 non-null    int64  \n",
            " 6   sixes             517 non-null    int64  \n",
            " 7   strikeRate        517 non-null    float64\n",
            " 8   match_id          517 non-null    object \n",
            " 9   match             517 non-null    object \n",
            " 10  team              517 non-null    object \n",
            "dtypes: float64(1), int64(6), object(4)\n",
            "memory usage: 48.5+ KB\n"
          ]
        }
      ],
      "source": [
        "df.info()"
      ]
    },
    {
      "cell_type": "markdown",
      "metadata": {
        "id": "21nmYHCy0Is8"
      },
      "source": [
        "##### It is useful method for quickly inspecting data structure of Dataset."
      ]
    },
    {
      "cell_type": "markdown",
      "metadata": {
        "id": "MO4eLIjh0Is9"
      },
      "source": [
        "- #### To check Quick summary of dataset:"
      ]
    },
    {
      "cell_type": "code",
      "execution_count": 14,
      "metadata": {
        "id": "CBiXQ5uI0Is-",
        "outputId": "9b31104a-e933-4507-c254-1183984f90e7"
      },
      "outputs": [
        {
          "data": {
            "text/html": [
              "<div>\n",
              "<style scoped>\n",
              "    .dataframe tbody tr th:only-of-type {\n",
              "        vertical-align: middle;\n",
              "    }\n",
              "\n",
              "    .dataframe tbody tr th {\n",
              "        vertical-align: top;\n",
              "    }\n",
              "\n",
              "    .dataframe thead th {\n",
              "        text-align: right;\n",
              "    }\n",
              "</style>\n",
              "<table border=\"1\" class=\"dataframe\">\n",
              "  <thead>\n",
              "    <tr style=\"text-align: right;\">\n",
              "      <th></th>\n",
              "      <th>batting_position</th>\n",
              "      <th>Out/Not Out</th>\n",
              "      <th>runs</th>\n",
              "      <th>balls</th>\n",
              "      <th>fours</th>\n",
              "      <th>sixes</th>\n",
              "      <th>strikeRate</th>\n",
              "    </tr>\n",
              "  </thead>\n",
              "  <tbody>\n",
              "    <tr>\n",
              "      <th>count</th>\n",
              "      <td>517.000000</td>\n",
              "      <td>517.000000</td>\n",
              "      <td>517.000000</td>\n",
              "      <td>517.000000</td>\n",
              "      <td>517.000000</td>\n",
              "      <td>517.000000</td>\n",
              "      <td>517.000000</td>\n",
              "    </tr>\n",
              "    <tr>\n",
              "      <th>mean</th>\n",
              "      <td>4.829787</td>\n",
              "      <td>0.779497</td>\n",
              "      <td>19.930368</td>\n",
              "      <td>14.514507</td>\n",
              "      <td>1.876209</td>\n",
              "      <td>0.746615</td>\n",
              "      <td>118.435629</td>\n",
              "    </tr>\n",
              "    <tr>\n",
              "      <th>std</th>\n",
              "      <td>2.747452</td>\n",
              "      <td>0.414987</td>\n",
              "      <td>21.253157</td>\n",
              "      <td>13.082560</td>\n",
              "      <td>2.313626</td>\n",
              "      <td>1.221423</td>\n",
              "      <td>70.402504</td>\n",
              "    </tr>\n",
              "    <tr>\n",
              "      <th>min</th>\n",
              "      <td>1.000000</td>\n",
              "      <td>0.000000</td>\n",
              "      <td>0.000000</td>\n",
              "      <td>1.000000</td>\n",
              "      <td>0.000000</td>\n",
              "      <td>0.000000</td>\n",
              "      <td>0.000000</td>\n",
              "    </tr>\n",
              "    <tr>\n",
              "      <th>25%</th>\n",
              "      <td>3.000000</td>\n",
              "      <td>1.000000</td>\n",
              "      <td>4.000000</td>\n",
              "      <td>4.000000</td>\n",
              "      <td>0.000000</td>\n",
              "      <td>0.000000</td>\n",
              "      <td>69.230000</td>\n",
              "    </tr>\n",
              "    <tr>\n",
              "      <th>50%</th>\n",
              "      <td>5.000000</td>\n",
              "      <td>1.000000</td>\n",
              "      <td>13.000000</td>\n",
              "      <td>10.000000</td>\n",
              "      <td>1.000000</td>\n",
              "      <td>0.000000</td>\n",
              "      <td>120.000000</td>\n",
              "    </tr>\n",
              "    <tr>\n",
              "      <th>75%</th>\n",
              "      <td>7.000000</td>\n",
              "      <td>1.000000</td>\n",
              "      <td>29.000000</td>\n",
              "      <td>21.000000</td>\n",
              "      <td>3.000000</td>\n",
              "      <td>1.000000</td>\n",
              "      <td>160.000000</td>\n",
              "    </tr>\n",
              "    <tr>\n",
              "      <th>max</th>\n",
              "      <td>11.000000</td>\n",
              "      <td>1.000000</td>\n",
              "      <td>111.000000</td>\n",
              "      <td>65.000000</td>\n",
              "      <td>15.000000</td>\n",
              "      <td>6.000000</td>\n",
              "      <td>400.000000</td>\n",
              "    </tr>\n",
              "  </tbody>\n",
              "</table>\n",
              "</div>"
            ],
            "text/plain": [
              "       batting_position  Out/Not Out        runs       balls       fours  \\\n",
              "count        517.000000   517.000000  517.000000  517.000000  517.000000   \n",
              "mean           4.829787     0.779497   19.930368   14.514507    1.876209   \n",
              "std            2.747452     0.414987   21.253157   13.082560    2.313626   \n",
              "min            1.000000     0.000000    0.000000    1.000000    0.000000   \n",
              "25%            3.000000     1.000000    4.000000    4.000000    0.000000   \n",
              "50%            5.000000     1.000000   13.000000   10.000000    1.000000   \n",
              "75%            7.000000     1.000000   29.000000   21.000000    3.000000   \n",
              "max           11.000000     1.000000  111.000000   65.000000   15.000000   \n",
              "\n",
              "            sixes  strikeRate  \n",
              "count  517.000000  517.000000  \n",
              "mean     0.746615  118.435629  \n",
              "std      1.221423   70.402504  \n",
              "min      0.000000    0.000000  \n",
              "25%      0.000000   69.230000  \n",
              "50%      0.000000  120.000000  \n",
              "75%      1.000000  160.000000  \n",
              "max      6.000000  400.000000  "
            ]
          },
          "execution_count": 14,
          "metadata": {},
          "output_type": "execute_result"
        }
      ],
      "source": [
        "df.describe()"
      ]
    },
    {
      "cell_type": "markdown",
      "metadata": {
        "id": "si3T07GE0Is_"
      },
      "source": [
        "##### It provide a quick summary of the data such as count,mean,standard daviation and more."
      ]
    },
    {
      "cell_type": "markdown",
      "metadata": {
        "id": "TtiIZcpM0ItA"
      },
      "source": [
        "##### Here only numerical data shown."
      ]
    },
    {
      "cell_type": "markdown",
      "metadata": {
        "id": "-5Kze7IM0ItS"
      },
      "source": [
        "- #### To check categorical Data:"
      ]
    },
    {
      "cell_type": "code",
      "execution_count": 15,
      "metadata": {
        "id": "TTqqLE4n0ItS",
        "outputId": "ab709f41-8165-4912-ad5d-64adfdf9b3cd"
      },
      "outputs": [
        {
          "data": {
            "text/html": [
              "<div>\n",
              "<style scoped>\n",
              "    .dataframe tbody tr th:only-of-type {\n",
              "        vertical-align: middle;\n",
              "    }\n",
              "\n",
              "    .dataframe tbody tr th {\n",
              "        vertical-align: top;\n",
              "    }\n",
              "\n",
              "    .dataframe thead th {\n",
              "        text-align: right;\n",
              "    }\n",
              "</style>\n",
              "<table border=\"1\" class=\"dataframe\">\n",
              "  <thead>\n",
              "    <tr style=\"text-align: right;\">\n",
              "      <th></th>\n",
              "      <th>batting_position</th>\n",
              "      <th>player_name</th>\n",
              "      <th>Out/Not Out</th>\n",
              "      <th>runs</th>\n",
              "      <th>balls</th>\n",
              "      <th>fours</th>\n",
              "      <th>sixes</th>\n",
              "      <th>strikeRate</th>\n",
              "      <th>match_id</th>\n",
              "      <th>match</th>\n",
              "      <th>team</th>\n",
              "    </tr>\n",
              "  </thead>\n",
              "  <tbody>\n",
              "    <tr>\n",
              "      <th>count</th>\n",
              "      <td>517.000000</td>\n",
              "      <td>517</td>\n",
              "      <td>517.000000</td>\n",
              "      <td>517.000000</td>\n",
              "      <td>517.000000</td>\n",
              "      <td>517.000000</td>\n",
              "      <td>517.000000</td>\n",
              "      <td>517.000000</td>\n",
              "      <td>517</td>\n",
              "      <td>517</td>\n",
              "      <td>517</td>\n",
              "    </tr>\n",
              "    <tr>\n",
              "      <th>unique</th>\n",
              "      <td>NaN</td>\n",
              "      <td>103</td>\n",
              "      <td>NaN</td>\n",
              "      <td>NaN</td>\n",
              "      <td>NaN</td>\n",
              "      <td>NaN</td>\n",
              "      <td>NaN</td>\n",
              "      <td>NaN</td>\n",
              "      <td>32</td>\n",
              "      <td>27</td>\n",
              "      <td>6</td>\n",
              "    </tr>\n",
              "    <tr>\n",
              "      <th>top</th>\n",
              "      <td>NaN</td>\n",
              "      <td>Shadab Khan</td>\n",
              "      <td>NaN</td>\n",
              "      <td>NaN</td>\n",
              "      <td>NaN</td>\n",
              "      <td>NaN</td>\n",
              "      <td>NaN</td>\n",
              "      <td>NaN</td>\n",
              "      <td>m_32</td>\n",
              "      <td>Multan Sultans vs Islamabad United</td>\n",
              "      <td>Islamabad United</td>\n",
              "    </tr>\n",
              "    <tr>\n",
              "      <th>freq</th>\n",
              "      <td>NaN</td>\n",
              "      <td>12</td>\n",
              "      <td>NaN</td>\n",
              "      <td>NaN</td>\n",
              "      <td>NaN</td>\n",
              "      <td>NaN</td>\n",
              "      <td>NaN</td>\n",
              "      <td>NaN</td>\n",
              "      <td>22</td>\n",
              "      <td>39</td>\n",
              "      <td>102</td>\n",
              "    </tr>\n",
              "    <tr>\n",
              "      <th>mean</th>\n",
              "      <td>4.829787</td>\n",
              "      <td>NaN</td>\n",
              "      <td>0.779497</td>\n",
              "      <td>19.930368</td>\n",
              "      <td>14.514507</td>\n",
              "      <td>1.876209</td>\n",
              "      <td>0.746615</td>\n",
              "      <td>118.435629</td>\n",
              "      <td>NaN</td>\n",
              "      <td>NaN</td>\n",
              "      <td>NaN</td>\n",
              "    </tr>\n",
              "    <tr>\n",
              "      <th>std</th>\n",
              "      <td>2.747452</td>\n",
              "      <td>NaN</td>\n",
              "      <td>0.414987</td>\n",
              "      <td>21.253157</td>\n",
              "      <td>13.082560</td>\n",
              "      <td>2.313626</td>\n",
              "      <td>1.221423</td>\n",
              "      <td>70.402504</td>\n",
              "      <td>NaN</td>\n",
              "      <td>NaN</td>\n",
              "      <td>NaN</td>\n",
              "    </tr>\n",
              "    <tr>\n",
              "      <th>min</th>\n",
              "      <td>1.000000</td>\n",
              "      <td>NaN</td>\n",
              "      <td>0.000000</td>\n",
              "      <td>0.000000</td>\n",
              "      <td>1.000000</td>\n",
              "      <td>0.000000</td>\n",
              "      <td>0.000000</td>\n",
              "      <td>0.000000</td>\n",
              "      <td>NaN</td>\n",
              "      <td>NaN</td>\n",
              "      <td>NaN</td>\n",
              "    </tr>\n",
              "    <tr>\n",
              "      <th>25%</th>\n",
              "      <td>3.000000</td>\n",
              "      <td>NaN</td>\n",
              "      <td>1.000000</td>\n",
              "      <td>4.000000</td>\n",
              "      <td>4.000000</td>\n",
              "      <td>0.000000</td>\n",
              "      <td>0.000000</td>\n",
              "      <td>69.230000</td>\n",
              "      <td>NaN</td>\n",
              "      <td>NaN</td>\n",
              "      <td>NaN</td>\n",
              "    </tr>\n",
              "    <tr>\n",
              "      <th>50%</th>\n",
              "      <td>5.000000</td>\n",
              "      <td>NaN</td>\n",
              "      <td>1.000000</td>\n",
              "      <td>13.000000</td>\n",
              "      <td>10.000000</td>\n",
              "      <td>1.000000</td>\n",
              "      <td>0.000000</td>\n",
              "      <td>120.000000</td>\n",
              "      <td>NaN</td>\n",
              "      <td>NaN</td>\n",
              "      <td>NaN</td>\n",
              "    </tr>\n",
              "    <tr>\n",
              "      <th>75%</th>\n",
              "      <td>7.000000</td>\n",
              "      <td>NaN</td>\n",
              "      <td>1.000000</td>\n",
              "      <td>29.000000</td>\n",
              "      <td>21.000000</td>\n",
              "      <td>3.000000</td>\n",
              "      <td>1.000000</td>\n",
              "      <td>160.000000</td>\n",
              "      <td>NaN</td>\n",
              "      <td>NaN</td>\n",
              "      <td>NaN</td>\n",
              "    </tr>\n",
              "    <tr>\n",
              "      <th>max</th>\n",
              "      <td>11.000000</td>\n",
              "      <td>NaN</td>\n",
              "      <td>1.000000</td>\n",
              "      <td>111.000000</td>\n",
              "      <td>65.000000</td>\n",
              "      <td>15.000000</td>\n",
              "      <td>6.000000</td>\n",
              "      <td>400.000000</td>\n",
              "      <td>NaN</td>\n",
              "      <td>NaN</td>\n",
              "      <td>NaN</td>\n",
              "    </tr>\n",
              "  </tbody>\n",
              "</table>\n",
              "</div>"
            ],
            "text/plain": [
              "        batting_position   player_name  Out/Not Out        runs       balls  \\\n",
              "count         517.000000           517   517.000000  517.000000  517.000000   \n",
              "unique               NaN           103          NaN         NaN         NaN   \n",
              "top                  NaN  Shadab Khan           NaN         NaN         NaN   \n",
              "freq                 NaN            12          NaN         NaN         NaN   \n",
              "mean            4.829787           NaN     0.779497   19.930368   14.514507   \n",
              "std             2.747452           NaN     0.414987   21.253157   13.082560   \n",
              "min             1.000000           NaN     0.000000    0.000000    1.000000   \n",
              "25%             3.000000           NaN     1.000000    4.000000    4.000000   \n",
              "50%             5.000000           NaN     1.000000   13.000000   10.000000   \n",
              "75%             7.000000           NaN     1.000000   29.000000   21.000000   \n",
              "max            11.000000           NaN     1.000000  111.000000   65.000000   \n",
              "\n",
              "             fours       sixes  strikeRate match_id  \\\n",
              "count   517.000000  517.000000  517.000000      517   \n",
              "unique         NaN         NaN         NaN       32   \n",
              "top            NaN         NaN         NaN     m_32   \n",
              "freq           NaN         NaN         NaN       22   \n",
              "mean      1.876209    0.746615  118.435629      NaN   \n",
              "std       2.313626    1.221423   70.402504      NaN   \n",
              "min       0.000000    0.000000    0.000000      NaN   \n",
              "25%       0.000000    0.000000   69.230000      NaN   \n",
              "50%       1.000000    0.000000  120.000000      NaN   \n",
              "75%       3.000000    1.000000  160.000000      NaN   \n",
              "max      15.000000    6.000000  400.000000      NaN   \n",
              "\n",
              "                                     match              team  \n",
              "count                                  517               517  \n",
              "unique                                  27                 6  \n",
              "top     Multan Sultans vs Islamabad United  Islamabad United  \n",
              "freq                                    39               102  \n",
              "mean                                   NaN               NaN  \n",
              "std                                    NaN               NaN  \n",
              "min                                    NaN               NaN  \n",
              "25%                                    NaN               NaN  \n",
              "50%                                    NaN               NaN  \n",
              "75%                                    NaN               NaN  \n",
              "max                                    NaN               NaN  "
            ]
          },
          "execution_count": 15,
          "metadata": {},
          "output_type": "execute_result"
        }
      ],
      "source": [
        "df.describe(include='all')"
      ]
    },
    {
      "cell_type": "markdown",
      "metadata": {
        "id": "Hjo08O0J0ItT"
      },
      "source": [
        "##### It help to get overview of both Numerical and categorical Data."
      ]
    },
    {
      "cell_type": "markdown",
      "metadata": {
        "id": "QdGyMuHH0ItU"
      },
      "source": [
        "- #### To check rows and column of DataFrame:"
      ]
    },
    {
      "cell_type": "code",
      "execution_count": 16,
      "metadata": {
        "id": "SLhCYZfH0ItU",
        "outputId": "d101b087-806a-4f75-e2e0-6d8a94b871b0"
      },
      "outputs": [
        {
          "data": {
            "text/plain": [
              "(517, 11)"
            ]
          },
          "execution_count": 16,
          "metadata": {},
          "output_type": "execute_result"
        }
      ],
      "source": [
        "df.shape"
      ]
    },
    {
      "cell_type": "markdown",
      "metadata": {
        "id": "24ZJ7GpU0ItV"
      },
      "source": [
        "##### It is useful for quickly checking the size of dataset."
      ]
    },
    {
      "cell_type": "markdown",
      "metadata": {
        "id": "PDtD2gRc0ItV"
      },
      "source": [
        "- #### To check Data types of column:"
      ]
    },
    {
      "cell_type": "code",
      "execution_count": 17,
      "metadata": {
        "id": "1gdz3fVW0ItW",
        "outputId": "779ebf19-6090-4107-d36a-3285b355a63b"
      },
      "outputs": [
        {
          "data": {
            "text/plain": [
              "batting_position      int64\n",
              "player_name          object\n",
              "Out/Not Out           int64\n",
              "runs                  int64\n",
              "balls                 int64\n",
              "fours                 int64\n",
              "sixes                 int64\n",
              "strikeRate          float64\n",
              "match_id             object\n",
              "match                object\n",
              "team                 object\n",
              "dtype: object"
            ]
          },
          "execution_count": 17,
          "metadata": {},
          "output_type": "execute_result"
        }
      ],
      "source": [
        "df.dtypes"
      ]
    },
    {
      "cell_type": "markdown",
      "metadata": {
        "id": "Mx_7k0S60ItW"
      },
      "source": [
        "- #### To check name of all column:"
      ]
    },
    {
      "cell_type": "code",
      "execution_count": 18,
      "metadata": {
        "id": "1y07tSWu0ItX",
        "outputId": "ca7d444d-0e70-4da4-d3f0-de01eb3781c2"
      },
      "outputs": [
        {
          "data": {
            "text/plain": [
              "Index(['batting_position', 'player_name', 'Out/Not Out', 'runs', 'balls',\n",
              "       'fours', 'sixes', 'strikeRate', 'match_id', 'match', 'team'],\n",
              "      dtype='object')"
            ]
          },
          "execution_count": 18,
          "metadata": {},
          "output_type": "execute_result"
        }
      ],
      "source": [
        "df.columns"
      ]
    },
    {
      "cell_type": "markdown",
      "metadata": {
        "id": "6_VGl4r60ItY"
      },
      "source": [
        "##### It helps in viewing or checking column labels."
      ]
    },
    {
      "cell_type": "markdown",
      "metadata": {
        "id": "YGk4QAkD0ItY"
      },
      "source": [
        "- #### To rename a column name:"
      ]
    },
    {
      "cell_type": "code",
      "execution_count": 19,
      "metadata": {
        "id": "5_QWrDVw0ItZ"
      },
      "outputs": [],
      "source": [
        "df.rename(columns={\"batting_position\":\"Batting-Position\",\"player_name\":\"Player-Name\",\"runs\":\"Runs\",\"balls\":\"Balls\",\"fours\":\"Fours\",\"sixes\":\"Sixes\",\"strikeRate\":\"Strike-Rate\",\"match_id\":\"Match-id\",\"match\":\"Match\",\"team\":\"Team\"},inplace=True)"
      ]
    },
    {
      "cell_type": "markdown",
      "metadata": {
        "id": "kBl1t7gn0ItZ"
      },
      "source": [
        "- #### Now check renamed column:"
      ]
    },
    {
      "cell_type": "code",
      "execution_count": 20,
      "metadata": {
        "id": "D2KW7kmT0Ita",
        "outputId": "152ac9cc-ba0e-4b95-b964-31a1fbbe9667"
      },
      "outputs": [
        {
          "data": {
            "text/html": [
              "<div>\n",
              "<style scoped>\n",
              "    .dataframe tbody tr th:only-of-type {\n",
              "        vertical-align: middle;\n",
              "    }\n",
              "\n",
              "    .dataframe tbody tr th {\n",
              "        vertical-align: top;\n",
              "    }\n",
              "\n",
              "    .dataframe thead th {\n",
              "        text-align: right;\n",
              "    }\n",
              "</style>\n",
              "<table border=\"1\" class=\"dataframe\">\n",
              "  <thead>\n",
              "    <tr style=\"text-align: right;\">\n",
              "      <th></th>\n",
              "      <th>Batting-Position</th>\n",
              "      <th>Player-Name</th>\n",
              "      <th>Out/Not Out</th>\n",
              "      <th>Runs</th>\n",
              "      <th>Balls</th>\n",
              "      <th>Fours</th>\n",
              "      <th>Sixes</th>\n",
              "      <th>Strike-Rate</th>\n",
              "      <th>Match-id</th>\n",
              "      <th>Match</th>\n",
              "      <th>Team</th>\n",
              "    </tr>\n",
              "  </thead>\n",
              "  <tbody>\n",
              "    <tr>\n",
              "      <th>0</th>\n",
              "      <td>1</td>\n",
              "      <td>Sahibzada Farhan</td>\n",
              "      <td>1</td>\n",
              "      <td>57</td>\n",
              "      <td>36</td>\n",
              "      <td>8</td>\n",
              "      <td>1</td>\n",
              "      <td>158.33</td>\n",
              "      <td>m_01</td>\n",
              "      <td>Lahore Qalanders vs Islamabad United</td>\n",
              "      <td>Lahore Qalanders</td>\n",
              "    </tr>\n",
              "    <tr>\n",
              "      <th>1</th>\n",
              "      <td>3</td>\n",
              "      <td>Rassie van der Dussen</td>\n",
              "      <td>0</td>\n",
              "      <td>71</td>\n",
              "      <td>41</td>\n",
              "      <td>4</td>\n",
              "      <td>3</td>\n",
              "      <td>173.17</td>\n",
              "      <td>m_01</td>\n",
              "      <td>Lahore Qalanders vs Islamabad United</td>\n",
              "      <td>Lahore Qalanders</td>\n",
              "    </tr>\n",
              "    <tr>\n",
              "      <th>2</th>\n",
              "      <td>4</td>\n",
              "      <td>Abdullah Shafique</td>\n",
              "      <td>1</td>\n",
              "      <td>28</td>\n",
              "      <td>22</td>\n",
              "      <td>0</td>\n",
              "      <td>3</td>\n",
              "      <td>127.27</td>\n",
              "      <td>m_01</td>\n",
              "      <td>Lahore Qalanders vs Islamabad United</td>\n",
              "      <td>Lahore Qalanders</td>\n",
              "    </tr>\n",
              "    <tr>\n",
              "      <th>3</th>\n",
              "      <td>5</td>\n",
              "      <td>David Wiese</td>\n",
              "      <td>1</td>\n",
              "      <td>14</td>\n",
              "      <td>8</td>\n",
              "      <td>1</td>\n",
              "      <td>1</td>\n",
              "      <td>175.00</td>\n",
              "      <td>m_01</td>\n",
              "      <td>Lahore Qalanders vs Islamabad United</td>\n",
              "      <td>Lahore Qalanders</td>\n",
              "    </tr>\n",
              "    <tr>\n",
              "      <th>4</th>\n",
              "      <td>6</td>\n",
              "      <td>Shaheen Shah Afridi</td>\n",
              "      <td>1</td>\n",
              "      <td>0</td>\n",
              "      <td>1</td>\n",
              "      <td>0</td>\n",
              "      <td>0</td>\n",
              "      <td>0.00</td>\n",
              "      <td>m_01</td>\n",
              "      <td>Lahore Qalanders vs Islamabad United</td>\n",
              "      <td>Lahore Qalanders</td>\n",
              "    </tr>\n",
              "  </tbody>\n",
              "</table>\n",
              "</div>"
            ],
            "text/plain": [
              "   Batting-Position            Player-Name  Out/Not Out  Runs  Balls  Fours  \\\n",
              "0                 1       Sahibzada Farhan            1    57     36      8   \n",
              "1                 3  Rassie van der Dussen            0    71     41      4   \n",
              "2                 4      Abdullah Shafique            1    28     22      0   \n",
              "3                 5            David Wiese            1    14      8      1   \n",
              "4                 6   Shaheen Shah Afridi             1     0      1      0   \n",
              "\n",
              "   Sixes  Strike-Rate Match-id                                 Match  \\\n",
              "0      1       158.33     m_01  Lahore Qalanders vs Islamabad United   \n",
              "1      3       173.17     m_01  Lahore Qalanders vs Islamabad United   \n",
              "2      3       127.27     m_01  Lahore Qalanders vs Islamabad United   \n",
              "3      1       175.00     m_01  Lahore Qalanders vs Islamabad United   \n",
              "4      0         0.00     m_01  Lahore Qalanders vs Islamabad United   \n",
              "\n",
              "               Team  \n",
              "0  Lahore Qalanders  \n",
              "1  Lahore Qalanders  \n",
              "2  Lahore Qalanders  \n",
              "3  Lahore Qalanders  \n",
              "4  Lahore Qalanders  "
            ]
          },
          "execution_count": 20,
          "metadata": {},
          "output_type": "execute_result"
        }
      ],
      "source": [
        "df.head()"
      ]
    },
    {
      "cell_type": "markdown",
      "metadata": {
        "id": "L-6_6BiQ0Itb"
      },
      "source": [
        "##### The columns are successfully renamed."
      ]
    },
    {
      "cell_type": "markdown",
      "metadata": {
        "id": "FYriFSgO0Itb"
      },
      "source": [
        "### Data Selection:"
      ]
    },
    {
      "cell_type": "markdown",
      "metadata": {
        "id": "1Xlt-t8B0Itc"
      },
      "source": [
        "##### Data selection refers to process of choosing relevant data from a large dataset that will be used for data analysis."
      ]
    },
    {
      "cell_type": "markdown",
      "metadata": {
        "id": "Bct2IXUS0Itc"
      },
      "source": [
        "- #### To select random rows from a dataset:"
      ]
    },
    {
      "cell_type": "code",
      "execution_count": 21,
      "metadata": {
        "id": "XBD3eWEl0Itd",
        "outputId": "bf585ec2-33ea-4a24-abc2-1605bac4236e"
      },
      "outputs": [
        {
          "data": {
            "text/html": [
              "<div>\n",
              "<style scoped>\n",
              "    .dataframe tbody tr th:only-of-type {\n",
              "        vertical-align: middle;\n",
              "    }\n",
              "\n",
              "    .dataframe tbody tr th {\n",
              "        vertical-align: top;\n",
              "    }\n",
              "\n",
              "    .dataframe thead th {\n",
              "        text-align: right;\n",
              "    }\n",
              "</style>\n",
              "<table border=\"1\" class=\"dataframe\">\n",
              "  <thead>\n",
              "    <tr style=\"text-align: right;\">\n",
              "      <th></th>\n",
              "      <th>Batting-Position</th>\n",
              "      <th>Player-Name</th>\n",
              "      <th>Out/Not Out</th>\n",
              "      <th>Runs</th>\n",
              "      <th>Balls</th>\n",
              "      <th>Fours</th>\n",
              "      <th>Sixes</th>\n",
              "      <th>Strike-Rate</th>\n",
              "      <th>Match-id</th>\n",
              "      <th>Match</th>\n",
              "      <th>Team</th>\n",
              "    </tr>\n",
              "  </thead>\n",
              "  <tbody>\n",
              "    <tr>\n",
              "      <th>108</th>\n",
              "      <td>7</td>\n",
              "      <td>Imad Wasim</td>\n",
              "      <td>1</td>\n",
              "      <td>9</td>\n",
              "      <td>15</td>\n",
              "      <td>0</td>\n",
              "      <td>0</td>\n",
              "      <td>60.0</td>\n",
              "      <td>m_08</td>\n",
              "      <td>Quetta Gladiators vs Islamabad United</td>\n",
              "      <td>Islamabad United</td>\n",
              "    </tr>\n",
              "  </tbody>\n",
              "</table>\n",
              "</div>"
            ],
            "text/plain": [
              "     Batting-Position Player-Name  Out/Not Out  Runs  Balls  Fours  Sixes  \\\n",
              "108                 7  Imad Wasim            1     9     15      0      0   \n",
              "\n",
              "     Strike-Rate Match-id                                  Match  \\\n",
              "108         60.0     m_08  Quetta Gladiators vs Islamabad United   \n",
              "\n",
              "                 Team  \n",
              "108  Islamabad United  "
            ]
          },
          "execution_count": 21,
          "metadata": {},
          "output_type": "execute_result"
        }
      ],
      "source": [
        "df.sample()"
      ]
    },
    {
      "cell_type": "markdown",
      "metadata": {
        "id": "CPGV1OxI0Itd"
      },
      "source": [
        "##### It always select random rows from a dataset."
      ]
    },
    {
      "cell_type": "code",
      "execution_count": 22,
      "metadata": {
        "id": "k9WHpS2-0Ite",
        "outputId": "fd728a9d-b54b-4243-ea62-5edc8fe11a04"
      },
      "outputs": [
        {
          "data": {
            "text/html": [
              "<div>\n",
              "<style scoped>\n",
              "    .dataframe tbody tr th:only-of-type {\n",
              "        vertical-align: middle;\n",
              "    }\n",
              "\n",
              "    .dataframe tbody tr th {\n",
              "        vertical-align: top;\n",
              "    }\n",
              "\n",
              "    .dataframe thead th {\n",
              "        text-align: right;\n",
              "    }\n",
              "</style>\n",
              "<table border=\"1\" class=\"dataframe\">\n",
              "  <thead>\n",
              "    <tr style=\"text-align: right;\">\n",
              "      <th></th>\n",
              "      <th>Batting-Position</th>\n",
              "      <th>Player-Name</th>\n",
              "      <th>Out/Not Out</th>\n",
              "      <th>Runs</th>\n",
              "      <th>Balls</th>\n",
              "      <th>Fours</th>\n",
              "      <th>Sixes</th>\n",
              "      <th>Strike-Rate</th>\n",
              "      <th>Match-id</th>\n",
              "      <th>Match</th>\n",
              "      <th>Team</th>\n",
              "    </tr>\n",
              "  </thead>\n",
              "  <tbody>\n",
              "    <tr>\n",
              "      <th>63</th>\n",
              "      <td>10</td>\n",
              "      <td>Ubaid Shah</td>\n",
              "      <td>1</td>\n",
              "      <td>0</td>\n",
              "      <td>2</td>\n",
              "      <td>0</td>\n",
              "      <td>0</td>\n",
              "      <td>0.00</td>\n",
              "      <td>m_05</td>\n",
              "      <td>Multan Sultans vs Islamabad United</td>\n",
              "      <td>Islamabad United</td>\n",
              "    </tr>\n",
              "    <tr>\n",
              "      <th>516</th>\n",
              "      <td>10</td>\n",
              "      <td>Mohammad Ali</td>\n",
              "      <td>0</td>\n",
              "      <td>1</td>\n",
              "      <td>4</td>\n",
              "      <td>0</td>\n",
              "      <td>0</td>\n",
              "      <td>25.00</td>\n",
              "      <td>m-09</td>\n",
              "      <td>Multan Sultans vs Peshawar Zalmi</td>\n",
              "      <td>Multan Sultans</td>\n",
              "    </tr>\n",
              "    <tr>\n",
              "      <th>299</th>\n",
              "      <td>6</td>\n",
              "      <td>Sikandar Raza</td>\n",
              "      <td>1</td>\n",
              "      <td>4</td>\n",
              "      <td>10</td>\n",
              "      <td>0</td>\n",
              "      <td>0</td>\n",
              "      <td>40.00</td>\n",
              "      <td>m_23</td>\n",
              "      <td>Islamabad United vs Lahore Qalanders</td>\n",
              "      <td>Lahore Qalanders</td>\n",
              "    </tr>\n",
              "    <tr>\n",
              "      <th>174</th>\n",
              "      <td>6</td>\n",
              "      <td>Rovman Powell</td>\n",
              "      <td>1</td>\n",
              "      <td>8</td>\n",
              "      <td>8</td>\n",
              "      <td>1</td>\n",
              "      <td>0</td>\n",
              "      <td>100.00</td>\n",
              "      <td>m_13</td>\n",
              "      <td>Peshawar Zalmi vs Islamabad United</td>\n",
              "      <td>Peshawar Zalmi</td>\n",
              "    </tr>\n",
              "    <tr>\n",
              "      <th>489</th>\n",
              "      <td>3</td>\n",
              "      <td>Salman Ali Agha</td>\n",
              "      <td>1</td>\n",
              "      <td>10</td>\n",
              "      <td>11</td>\n",
              "      <td>2</td>\n",
              "      <td>0</td>\n",
              "      <td>90.91</td>\n",
              "      <td>m_34</td>\n",
              "      <td>Multan Sultans vs Islamabad United</td>\n",
              "      <td>Islamabad United</td>\n",
              "    </tr>\n",
              "  </tbody>\n",
              "</table>\n",
              "</div>"
            ],
            "text/plain": [
              "     Batting-Position      Player-Name  Out/Not Out  Runs  Balls  Fours  \\\n",
              "63                 10       Ubaid Shah            1     0      2      0   \n",
              "516                10     Mohammad Ali            0     1      4      0   \n",
              "299                 6    Sikandar Raza            1     4     10      0   \n",
              "174                 6    Rovman Powell            1     8      8      1   \n",
              "489                 3  Salman Ali Agha            1    10     11      2   \n",
              "\n",
              "     Sixes  Strike-Rate Match-id                                 Match  \\\n",
              "63       0         0.00     m_05    Multan Sultans vs Islamabad United   \n",
              "516      0        25.00     m-09      Multan Sultans vs Peshawar Zalmi   \n",
              "299      0        40.00     m_23  Islamabad United vs Lahore Qalanders   \n",
              "174      0       100.00     m_13    Peshawar Zalmi vs Islamabad United   \n",
              "489      0        90.91     m_34    Multan Sultans vs Islamabad United   \n",
              "\n",
              "                 Team  \n",
              "63   Islamabad United  \n",
              "516    Multan Sultans  \n",
              "299  Lahore Qalanders  \n",
              "174    Peshawar Zalmi  \n",
              "489  Islamabad United  "
            ]
          },
          "execution_count": 22,
          "metadata": {},
          "output_type": "execute_result"
        }
      ],
      "source": [
        "df.sample(5)"
      ]
    },
    {
      "cell_type": "markdown",
      "metadata": {
        "id": "cYLa_Opc0Itf"
      },
      "source": [
        "- #### Select rows by Index/Position:"
      ]
    },
    {
      "cell_type": "markdown",
      "metadata": {
        "id": "RN_h07yc0Itf"
      },
      "source": [
        "##### By using index the rows are selected."
      ]
    },
    {
      "cell_type": "code",
      "execution_count": 64,
      "metadata": {
        "id": "pxuJfeoM0Itg",
        "outputId": "881d52dc-eca6-4ac5-88d6-a6977f6c9622"
      },
      "outputs": [
        {
          "data": {
            "text/html": [
              "<div>\n",
              "<style scoped>\n",
              "    .dataframe tbody tr th:only-of-type {\n",
              "        vertical-align: middle;\n",
              "    }\n",
              "\n",
              "    .dataframe tbody tr th {\n",
              "        vertical-align: top;\n",
              "    }\n",
              "\n",
              "    .dataframe thead th {\n",
              "        text-align: right;\n",
              "    }\n",
              "</style>\n",
              "<table border=\"1\" class=\"dataframe\">\n",
              "  <thead>\n",
              "    <tr style=\"text-align: right;\">\n",
              "      <th></th>\n",
              "      <th>Batting-Position</th>\n",
              "      <th>Player-Name</th>\n",
              "      <th>Out/Not Out</th>\n",
              "      <th>Runs</th>\n",
              "      <th>Balls</th>\n",
              "      <th>Fours</th>\n",
              "      <th>Sixes</th>\n",
              "      <th>Strike-Rate</th>\n",
              "      <th>Match-id</th>\n",
              "      <th>Match</th>\n",
              "      <th>Team</th>\n",
              "      <th>Runs-per-over</th>\n",
              "    </tr>\n",
              "  </thead>\n",
              "  <tbody>\n",
              "    <tr>\n",
              "      <th>count</th>\n",
              "      <td>517.000000</td>\n",
              "      <td>517</td>\n",
              "      <td>517.000000</td>\n",
              "      <td>517.000000</td>\n",
              "      <td>517.00000</td>\n",
              "      <td>517.000000</td>\n",
              "      <td>517.000000</td>\n",
              "      <td>517.000000</td>\n",
              "      <td>517</td>\n",
              "      <td>517</td>\n",
              "      <td>517</td>\n",
              "      <td>517.000000</td>\n",
              "    </tr>\n",
              "    <tr>\n",
              "      <th>std</th>\n",
              "      <td>2.747452</td>\n",
              "      <td>unknown</td>\n",
              "      <td>0.414987</td>\n",
              "      <td>21.253157</td>\n",
              "      <td>13.08256</td>\n",
              "      <td>2.313626</td>\n",
              "      <td>1.221423</td>\n",
              "      <td>70.402504</td>\n",
              "      <td>unknown</td>\n",
              "      <td>unknown</td>\n",
              "      <td>unknown</td>\n",
              "      <td>4.224151</td>\n",
              "    </tr>\n",
              "  </tbody>\n",
              "</table>\n",
              "</div>"
            ],
            "text/plain": [
              "       Batting-Position Player-Name  Out/Not Out        Runs      Balls  \\\n",
              "count        517.000000         517   517.000000  517.000000  517.00000   \n",
              "std            2.747452     unknown     0.414987   21.253157   13.08256   \n",
              "\n",
              "            Fours       Sixes  Strike-Rate Match-id    Match     Team  \\\n",
              "count  517.000000  517.000000   517.000000      517      517      517   \n",
              "std      2.313626    1.221423    70.402504  unknown  unknown  unknown   \n",
              "\n",
              "       Runs-per-over  \n",
              "count     517.000000  \n",
              "std         4.224151  "
            ]
          },
          "execution_count": 64,
          "metadata": {},
          "output_type": "execute_result"
        }
      ],
      "source": [
        "df.describe(include='all').iloc[[0,5]].fillna(\"unknown\") "
      ]
    },
    {
      "cell_type": "code",
      "execution_count": 24,
      "metadata": {
        "id": "t17rbx5Y0Itg",
        "outputId": "36e2bf33-abc3-46bb-892b-4a09b9a6a801"
      },
      "outputs": [
        {
          "data": {
            "text/html": [
              "<div>\n",
              "<style scoped>\n",
              "    .dataframe tbody tr th:only-of-type {\n",
              "        vertical-align: middle;\n",
              "    }\n",
              "\n",
              "    .dataframe tbody tr th {\n",
              "        vertical-align: top;\n",
              "    }\n",
              "\n",
              "    .dataframe thead th {\n",
              "        text-align: right;\n",
              "    }\n",
              "</style>\n",
              "<table border=\"1\" class=\"dataframe\">\n",
              "  <thead>\n",
              "    <tr style=\"text-align: right;\">\n",
              "      <th></th>\n",
              "      <th>Batting-Position</th>\n",
              "      <th>Player-Name</th>\n",
              "      <th>Out/Not Out</th>\n",
              "      <th>Runs</th>\n",
              "      <th>Balls</th>\n",
              "      <th>Fours</th>\n",
              "      <th>Sixes</th>\n",
              "      <th>Strike-Rate</th>\n",
              "      <th>Match-id</th>\n",
              "      <th>Match</th>\n",
              "      <th>Team</th>\n",
              "    </tr>\n",
              "  </thead>\n",
              "  <tbody>\n",
              "    <tr>\n",
              "      <th>top</th>\n",
              "      <td>unknown</td>\n",
              "      <td>Shadab Khan</td>\n",
              "      <td>unknown</td>\n",
              "      <td>unknown</td>\n",
              "      <td>unknown</td>\n",
              "      <td>unknown</td>\n",
              "      <td>unknown</td>\n",
              "      <td>unknown</td>\n",
              "      <td>m_32</td>\n",
              "      <td>Multan Sultans vs Islamabad United</td>\n",
              "      <td>Islamabad United</td>\n",
              "    </tr>\n",
              "    <tr>\n",
              "      <th>50%</th>\n",
              "      <td>5.0</td>\n",
              "      <td>unknown</td>\n",
              "      <td>1.0</td>\n",
              "      <td>13.0</td>\n",
              "      <td>10.0</td>\n",
              "      <td>1.0</td>\n",
              "      <td>0.0</td>\n",
              "      <td>120.0</td>\n",
              "      <td>unknown</td>\n",
              "      <td>unknown</td>\n",
              "      <td>unknown</td>\n",
              "    </tr>\n",
              "  </tbody>\n",
              "</table>\n",
              "</div>"
            ],
            "text/plain": [
              "    Batting-Position   Player-Name Out/Not Out     Runs    Balls    Fours  \\\n",
              "top          unknown  Shadab Khan      unknown  unknown  unknown  unknown   \n",
              "50%              5.0       unknown         1.0     13.0     10.0      1.0   \n",
              "\n",
              "       Sixes Strike-Rate Match-id                               Match  \\\n",
              "top  unknown     unknown     m_32  Multan Sultans vs Islamabad United   \n",
              "50%      0.0       120.0  unknown                             unknown   \n",
              "\n",
              "                 Team  \n",
              "top  Islamabad United  \n",
              "50%           unknown  "
            ]
          },
          "execution_count": 24,
          "metadata": {},
          "output_type": "execute_result"
        }
      ],
      "source": [
        "df.describe(include='all').iloc[[2,8]].fillna(\"unknown\")"
      ]
    },
    {
      "cell_type": "markdown",
      "metadata": {
        "id": "8DbYVcB90Ith"
      },
      "source": [
        "- #### Select rows by labels:"
      ]
    },
    {
      "cell_type": "markdown",
      "metadata": {
        "id": "TQmDoqZJ0Ith"
      },
      "source": [
        "##### By using Labels the rows are selected."
      ]
    },
    {
      "cell_type": "code",
      "execution_count": 25,
      "metadata": {
        "id": "YCKw5CHU0Iti",
        "outputId": "35b131da-d0e9-4643-8c53-034e57771bbf"
      },
      "outputs": [
        {
          "data": {
            "text/html": [
              "<div>\n",
              "<style scoped>\n",
              "    .dataframe tbody tr th:only-of-type {\n",
              "        vertical-align: middle;\n",
              "    }\n",
              "\n",
              "    .dataframe tbody tr th {\n",
              "        vertical-align: top;\n",
              "    }\n",
              "\n",
              "    .dataframe thead th {\n",
              "        text-align: right;\n",
              "    }\n",
              "</style>\n",
              "<table border=\"1\" class=\"dataframe\">\n",
              "  <thead>\n",
              "    <tr style=\"text-align: right;\">\n",
              "      <th></th>\n",
              "      <th>Batting-Position</th>\n",
              "      <th>Player-Name</th>\n",
              "      <th>Out/Not Out</th>\n",
              "      <th>Runs</th>\n",
              "      <th>Balls</th>\n",
              "      <th>Fours</th>\n",
              "      <th>Sixes</th>\n",
              "      <th>Strike-Rate</th>\n",
              "      <th>Match-id</th>\n",
              "      <th>Match</th>\n",
              "      <th>Team</th>\n",
              "    </tr>\n",
              "  </thead>\n",
              "  <tbody>\n",
              "    <tr>\n",
              "      <th>count</th>\n",
              "      <td>517.0</td>\n",
              "      <td>517</td>\n",
              "      <td>517.0</td>\n",
              "      <td>517.0</td>\n",
              "      <td>517.0</td>\n",
              "      <td>517.0</td>\n",
              "      <td>517.0</td>\n",
              "      <td>517.0</td>\n",
              "      <td>517</td>\n",
              "      <td>517</td>\n",
              "      <td>517</td>\n",
              "    </tr>\n",
              "    <tr>\n",
              "      <th>unique</th>\n",
              "      <td>unknown</td>\n",
              "      <td>103</td>\n",
              "      <td>unknown</td>\n",
              "      <td>unknown</td>\n",
              "      <td>unknown</td>\n",
              "      <td>unknown</td>\n",
              "      <td>unknown</td>\n",
              "      <td>unknown</td>\n",
              "      <td>32</td>\n",
              "      <td>27</td>\n",
              "      <td>6</td>\n",
              "    </tr>\n",
              "    <tr>\n",
              "      <th>top</th>\n",
              "      <td>unknown</td>\n",
              "      <td>Shadab Khan</td>\n",
              "      <td>unknown</td>\n",
              "      <td>unknown</td>\n",
              "      <td>unknown</td>\n",
              "      <td>unknown</td>\n",
              "      <td>unknown</td>\n",
              "      <td>unknown</td>\n",
              "      <td>m_32</td>\n",
              "      <td>Multan Sultans vs Islamabad United</td>\n",
              "      <td>Islamabad United</td>\n",
              "    </tr>\n",
              "    <tr>\n",
              "      <th>freq</th>\n",
              "      <td>unknown</td>\n",
              "      <td>12</td>\n",
              "      <td>unknown</td>\n",
              "      <td>unknown</td>\n",
              "      <td>unknown</td>\n",
              "      <td>unknown</td>\n",
              "      <td>unknown</td>\n",
              "      <td>unknown</td>\n",
              "      <td>22</td>\n",
              "      <td>39</td>\n",
              "      <td>102</td>\n",
              "    </tr>\n",
              "    <tr>\n",
              "      <th>mean</th>\n",
              "      <td>4.829787</td>\n",
              "      <td>unknown</td>\n",
              "      <td>0.779497</td>\n",
              "      <td>19.930368</td>\n",
              "      <td>14.514507</td>\n",
              "      <td>1.876209</td>\n",
              "      <td>0.746615</td>\n",
              "      <td>118.435629</td>\n",
              "      <td>unknown</td>\n",
              "      <td>unknown</td>\n",
              "      <td>unknown</td>\n",
              "    </tr>\n",
              "    <tr>\n",
              "      <th>std</th>\n",
              "      <td>2.747452</td>\n",
              "      <td>unknown</td>\n",
              "      <td>0.414987</td>\n",
              "      <td>21.253157</td>\n",
              "      <td>13.08256</td>\n",
              "      <td>2.313626</td>\n",
              "      <td>1.221423</td>\n",
              "      <td>70.402504</td>\n",
              "      <td>unknown</td>\n",
              "      <td>unknown</td>\n",
              "      <td>unknown</td>\n",
              "    </tr>\n",
              "  </tbody>\n",
              "</table>\n",
              "</div>"
            ],
            "text/plain": [
              "       Batting-Position   Player-Name Out/Not Out       Runs      Balls  \\\n",
              "count             517.0           517       517.0      517.0      517.0   \n",
              "unique          unknown           103     unknown    unknown    unknown   \n",
              "top             unknown  Shadab Khan      unknown    unknown    unknown   \n",
              "freq            unknown            12     unknown    unknown    unknown   \n",
              "mean           4.829787       unknown    0.779497  19.930368  14.514507   \n",
              "std            2.747452       unknown    0.414987  21.253157   13.08256   \n",
              "\n",
              "           Fours     Sixes Strike-Rate Match-id  \\\n",
              "count      517.0     517.0       517.0      517   \n",
              "unique   unknown   unknown     unknown       32   \n",
              "top      unknown   unknown     unknown     m_32   \n",
              "freq     unknown   unknown     unknown       22   \n",
              "mean    1.876209  0.746615  118.435629  unknown   \n",
              "std     2.313626  1.221423   70.402504  unknown   \n",
              "\n",
              "                                     Match              Team  \n",
              "count                                  517               517  \n",
              "unique                                  27                 6  \n",
              "top     Multan Sultans vs Islamabad United  Islamabad United  \n",
              "freq                                    39               102  \n",
              "mean                               unknown           unknown  \n",
              "std                                unknown           unknown  "
            ]
          },
          "execution_count": 25,
          "metadata": {},
          "output_type": "execute_result"
        }
      ],
      "source": [
        "df.describe(include='all').loc[\"count\":\"std\"].fillna(\"unknown\")"
      ]
    },
    {
      "cell_type": "markdown",
      "metadata": {
        "id": "H6MXCXG00Iti"
      },
      "source": [
        "##### It select all values between selected labels.."
      ]
    },
    {
      "cell_type": "markdown",
      "metadata": {
        "id": "y_i7tnM60Itj"
      },
      "source": [
        "- ### To access a single value by row and column label:"
      ]
    },
    {
      "cell_type": "code",
      "execution_count": 26,
      "metadata": {
        "id": "cUeFMGAB0Itk",
        "outputId": "33369d93-c7f7-4301-8e57-ca3d0148b9aa"
      },
      "outputs": [
        {
          "data": {
            "text/plain": [
              "'Babar Azam '"
            ]
          },
          "execution_count": 26,
          "metadata": {},
          "output_type": "execute_result"
        }
      ],
      "source": [
        "df.at[265,'Player-Name']"
      ]
    },
    {
      "cell_type": "markdown",
      "metadata": {
        "id": "Wn4VkxRf0Itk"
      },
      "source": [
        "- ### To access a single value by row and column position/Index:"
      ]
    },
    {
      "cell_type": "code",
      "execution_count": 27,
      "metadata": {
        "id": "SL7xJjAJ0Itk",
        "outputId": "f2d65a97-3897-4a1b-b924-95d52fc7e614"
      },
      "outputs": [
        {
          "data": {
            "text/plain": [
              "'Lahore Qalanders'"
            ]
          },
          "execution_count": 27,
          "metadata": {},
          "output_type": "execute_result"
        }
      ],
      "source": [
        "df.iat[1,10]"
      ]
    },
    {
      "cell_type": "markdown",
      "metadata": {
        "id": "6ZVhP5570Itl"
      },
      "source": [
        "##### These are used for fast access to a single value in DataFrame."
      ]
    },
    {
      "cell_type": "markdown",
      "metadata": {
        "id": "Rf5MJVuF0Itl"
      },
      "source": [
        "### Data Aggregation:"
      ]
    },
    {
      "cell_type": "markdown",
      "metadata": {
        "id": "vdkRGWbK0Itl"
      },
      "source": [
        "##### It is the process of combining and summarizing data to make it easier to analyze and understand."
      ]
    },
    {
      "cell_type": "markdown",
      "metadata": {
        "id": "zb50GRRm0Itm"
      },
      "source": [
        "- #### To calculate the sum of values:"
      ]
    },
    {
      "cell_type": "code",
      "execution_count": 28,
      "metadata": {
        "id": "yz-rcsyw0Itm",
        "outputId": "3b7a48f5-a2cc-4073-f12b-6a27c8c3b481"
      },
      "outputs": [
        {
          "data": {
            "text/plain": [
              "2497"
            ]
          },
          "execution_count": 28,
          "metadata": {},
          "output_type": "execute_result"
        }
      ],
      "source": [
        "df[\"Batting-Position\"].sum()"
      ]
    },
    {
      "cell_type": "code",
      "execution_count": 29,
      "metadata": {
        "id": "YgQyCw0j0Itn",
        "outputId": "71af287d-775b-4388-cb24-a1d86c53a875"
      },
      "outputs": [
        {
          "data": {
            "text/plain": [
              "10304"
            ]
          },
          "execution_count": 29,
          "metadata": {},
          "output_type": "execute_result"
        }
      ],
      "source": [
        "df[\"Runs\"].sum()"
      ]
    },
    {
      "cell_type": "code",
      "execution_count": 30,
      "metadata": {
        "id": "n7QoptzX0Itn",
        "outputId": "5d15d48f-7de5-41cd-ca12-a6f58aa6e6c4"
      },
      "outputs": [
        {
          "data": {
            "text/plain": [
              "7504"
            ]
          },
          "execution_count": 30,
          "metadata": {},
          "output_type": "execute_result"
        }
      ],
      "source": [
        "df[\"Balls\"].sum()"
      ]
    },
    {
      "cell_type": "code",
      "execution_count": 31,
      "metadata": {
        "id": "92UwraH40Ito",
        "outputId": "27a17b11-2547-4055-87bb-816fecf3439c"
      },
      "outputs": [
        {
          "data": {
            "text/plain": [
              "386"
            ]
          },
          "execution_count": 31,
          "metadata": {},
          "output_type": "execute_result"
        }
      ],
      "source": [
        "df[\"Sixes\"].sum()"
      ]
    },
    {
      "cell_type": "code",
      "execution_count": 32,
      "metadata": {
        "id": "9jDacgOt0Ito",
        "outputId": "e6dcaa0f-cd29-4049-960d-35a61ff05231"
      },
      "outputs": [
        {
          "data": {
            "text/plain": [
              "970"
            ]
          },
          "execution_count": 32,
          "metadata": {},
          "output_type": "execute_result"
        }
      ],
      "source": [
        "df[\"Fours\"].sum()"
      ]
    },
    {
      "cell_type": "markdown",
      "metadata": {
        "id": "I8kmtun_0Ito"
      },
      "source": [
        "The .sum() function calculates the total value in a DataFrame."
      ]
    },
    {
      "cell_type": "markdown",
      "metadata": {
        "id": "zWJc77Qr0Itp"
      },
      "source": [
        "- #### To calculate mean of values:"
      ]
    },
    {
      "cell_type": "code",
      "execution_count": 33,
      "metadata": {
        "id": "eAVcqBH10Itp",
        "outputId": "639342f0-5e05-470b-f61a-5f92f8fd9aba"
      },
      "outputs": [
        {
          "data": {
            "text/plain": [
              "4.829787234042553"
            ]
          },
          "execution_count": 33,
          "metadata": {},
          "output_type": "execute_result"
        }
      ],
      "source": [
        "df[\"Batting-Position\"].mean()"
      ]
    },
    {
      "cell_type": "code",
      "execution_count": 34,
      "metadata": {
        "id": "Beoe65eL0Itq",
        "outputId": "f7eeded4-5668-4bcc-b752-34eefb9d39a6"
      },
      "outputs": [
        {
          "data": {
            "text/plain": [
              "19.93036750483559"
            ]
          },
          "execution_count": 34,
          "metadata": {},
          "output_type": "execute_result"
        }
      ],
      "source": [
        "df[\"Runs\"].mean()"
      ]
    },
    {
      "cell_type": "code",
      "execution_count": 35,
      "metadata": {
        "id": "UubRXGpE0Itq",
        "outputId": "1edbe040-77c7-4272-c37e-bc5828899043"
      },
      "outputs": [
        {
          "data": {
            "text/plain": [
              "14.51450676982592"
            ]
          },
          "execution_count": 35,
          "metadata": {},
          "output_type": "execute_result"
        }
      ],
      "source": [
        "df[\"Balls\"].mean()"
      ]
    },
    {
      "cell_type": "code",
      "execution_count": 36,
      "metadata": {
        "id": "2cVRba5y0Itr",
        "outputId": "2150afe7-14f3-48ee-fc52-702b5353030d"
      },
      "outputs": [
        {
          "data": {
            "text/plain": [
              "0.746615087040619"
            ]
          },
          "execution_count": 36,
          "metadata": {},
          "output_type": "execute_result"
        }
      ],
      "source": [
        "df[\"Sixes\"].mean()"
      ]
    },
    {
      "cell_type": "code",
      "execution_count": 37,
      "metadata": {
        "id": "l69s7AER0Its",
        "outputId": "7e3c5906-9835-4aa9-9fd0-026712f5702e"
      },
      "outputs": [
        {
          "data": {
            "text/plain": [
              "1.8762088974854931"
            ]
          },
          "execution_count": 37,
          "metadata": {},
          "output_type": "execute_result"
        }
      ],
      "source": [
        "df[\"Fours\"].mean()"
      ]
    },
    {
      "cell_type": "markdown",
      "metadata": {
        "id": "QOqsxDBj0Its"
      },
      "source": [
        "##### It is used to calculate the average of value."
      ]
    },
    {
      "cell_type": "markdown",
      "metadata": {
        "id": "DpNmIll50Itt"
      },
      "source": [
        "- #### To calculate median of Values:"
      ]
    },
    {
      "cell_type": "code",
      "execution_count": 38,
      "metadata": {
        "id": "dnSIRaN30Itt",
        "outputId": "83fbeb4c-1860-4ef6-8f7c-dd47f6b19b92"
      },
      "outputs": [
        {
          "data": {
            "text/plain": [
              "5.0"
            ]
          },
          "execution_count": 38,
          "metadata": {},
          "output_type": "execute_result"
        }
      ],
      "source": [
        "df[\"Batting-Position\"].median()"
      ]
    },
    {
      "cell_type": "code",
      "execution_count": 39,
      "metadata": {
        "id": "RdmsXKt_0Itt",
        "outputId": "4fea18d2-048c-4e35-d00a-72ac027dc57a"
      },
      "outputs": [
        {
          "data": {
            "text/plain": [
              "13.0"
            ]
          },
          "execution_count": 39,
          "metadata": {},
          "output_type": "execute_result"
        }
      ],
      "source": [
        "df[\"Runs\"].median()"
      ]
    },
    {
      "cell_type": "code",
      "execution_count": 40,
      "metadata": {
        "id": "1WuVfDvC0Itu",
        "outputId": "b364a3e7-bbdd-4189-8d67-1c89edd1b986"
      },
      "outputs": [
        {
          "data": {
            "text/plain": [
              "10.0"
            ]
          },
          "execution_count": 40,
          "metadata": {},
          "output_type": "execute_result"
        }
      ],
      "source": [
        "df[\"Balls\"].median()"
      ]
    },
    {
      "cell_type": "code",
      "execution_count": 41,
      "metadata": {
        "id": "oZpe1kB70Itu",
        "outputId": "defc4bb8-6d2c-4a5a-a9ec-67623f61028a"
      },
      "outputs": [
        {
          "data": {
            "text/plain": [
              "0.0"
            ]
          },
          "execution_count": 41,
          "metadata": {},
          "output_type": "execute_result"
        }
      ],
      "source": [
        "df[\"Sixes\"].median()"
      ]
    },
    {
      "cell_type": "code",
      "execution_count": 42,
      "metadata": {
        "id": "Ihy2KDK70Itu",
        "outputId": "eae2faae-6462-4813-f0cd-d4ca49974f8a"
      },
      "outputs": [
        {
          "data": {
            "text/plain": [
              "1.0"
            ]
          },
          "execution_count": 42,
          "metadata": {},
          "output_type": "execute_result"
        }
      ],
      "source": [
        "df[\"Fours\"].median()"
      ]
    },
    {
      "cell_type": "markdown",
      "metadata": {
        "id": "PfrKxDtX0Itv"
      },
      "source": [
        "##### It is used to calculate the middle values in a DataFrame."
      ]
    },
    {
      "cell_type": "markdown",
      "metadata": {
        "id": "YaPAZSjW0Itz"
      },
      "source": [
        "- #### To find maximum values:"
      ]
    },
    {
      "cell_type": "code",
      "execution_count": 43,
      "metadata": {
        "id": "z5Oo4R6L0Itz",
        "outputId": "f0cfe9c3-493e-4fa1-d0b9-6e092e0f6a3d"
      },
      "outputs": [
        {
          "data": {
            "text/plain": [
              "11"
            ]
          },
          "execution_count": 43,
          "metadata": {},
          "output_type": "execute_result"
        }
      ],
      "source": [
        "df[\"Batting-Position\"].max()"
      ]
    },
    {
      "cell_type": "code",
      "execution_count": 44,
      "metadata": {
        "id": "9BBtdumE0It0",
        "outputId": "585381b5-17eb-400f-adf1-51a0ce8cca4d"
      },
      "outputs": [
        {
          "data": {
            "text/plain": [
              "111"
            ]
          },
          "execution_count": 44,
          "metadata": {},
          "output_type": "execute_result"
        }
      ],
      "source": [
        "df[\"Runs\"].max()"
      ]
    },
    {
      "cell_type": "code",
      "execution_count": 45,
      "metadata": {
        "id": "BgxRQpOl0It0",
        "outputId": "98729165-dba5-44e9-84ad-d14e3f3e5e7f"
      },
      "outputs": [
        {
          "data": {
            "text/plain": [
              "65"
            ]
          },
          "execution_count": 45,
          "metadata": {},
          "output_type": "execute_result"
        }
      ],
      "source": [
        "df[\"Balls\"].max()"
      ]
    },
    {
      "cell_type": "code",
      "execution_count": 46,
      "metadata": {
        "id": "YzXyhD1y0It0",
        "outputId": "92974d4d-6d9f-404e-fd8a-46f4e26f17ea"
      },
      "outputs": [
        {
          "data": {
            "text/plain": [
              "6"
            ]
          },
          "execution_count": 46,
          "metadata": {},
          "output_type": "execute_result"
        }
      ],
      "source": [
        "df[\"Sixes\"].max()"
      ]
    },
    {
      "cell_type": "code",
      "execution_count": 47,
      "metadata": {
        "id": "GvesbcND0It1",
        "outputId": "805def0b-227c-4b7f-881c-c0bafe58e97a"
      },
      "outputs": [
        {
          "data": {
            "text/plain": [
              "15"
            ]
          },
          "execution_count": 47,
          "metadata": {},
          "output_type": "execute_result"
        }
      ],
      "source": [
        "df[\"Fours\"].max()"
      ]
    },
    {
      "cell_type": "markdown",
      "metadata": {
        "id": "26k9myL00It1"
      },
      "source": [
        "### Data Augmentation:"
      ]
    },
    {
      "cell_type": "markdown",
      "metadata": {
        "id": "pfJ7DVnH0It1"
      },
      "source": [
        "Data Augmentation means creating more data from existing data by making small changes"
      ]
    },
    {
      "cell_type": "code",
      "execution_count": 48,
      "metadata": {
        "id": "b4Ob5Ryx0It1"
      },
      "outputs": [],
      "source": [
        "import numpy as np"
      ]
    },
    {
      "cell_type": "markdown",
      "metadata": {
        "id": "lZW9PLbX0It2"
      },
      "source": [
        "#### To create a new column by using existing two columns:"
      ]
    },
    {
      "cell_type": "code",
      "execution_count": 49,
      "metadata": {
        "id": "o4Rwp9Yx0It2"
      },
      "outputs": [],
      "source": [
        "df['Runs-per-over']= df['Runs']/(df['Balls']/6)"
      ]
    },
    {
      "cell_type": "code",
      "execution_count": 50,
      "metadata": {
        "id": "e5nB0RTp0It2",
        "outputId": "dc1376c3-e9d4-4ef5-f6d9-22c6d6c12cac"
      },
      "outputs": [
        {
          "data": {
            "text/html": [
              "<div>\n",
              "<style scoped>\n",
              "    .dataframe tbody tr th:only-of-type {\n",
              "        vertical-align: middle;\n",
              "    }\n",
              "\n",
              "    .dataframe tbody tr th {\n",
              "        vertical-align: top;\n",
              "    }\n",
              "\n",
              "    .dataframe thead th {\n",
              "        text-align: right;\n",
              "    }\n",
              "</style>\n",
              "<table border=\"1\" class=\"dataframe\">\n",
              "  <thead>\n",
              "    <tr style=\"text-align: right;\">\n",
              "      <th></th>\n",
              "      <th>Batting-Position</th>\n",
              "      <th>Player-Name</th>\n",
              "      <th>Out/Not Out</th>\n",
              "      <th>Runs</th>\n",
              "      <th>Balls</th>\n",
              "      <th>Fours</th>\n",
              "      <th>Sixes</th>\n",
              "      <th>Strike-Rate</th>\n",
              "      <th>Match-id</th>\n",
              "      <th>Match</th>\n",
              "      <th>Team</th>\n",
              "      <th>Runs-per-over</th>\n",
              "    </tr>\n",
              "  </thead>\n",
              "  <tbody>\n",
              "    <tr>\n",
              "      <th>402</th>\n",
              "      <td>1</td>\n",
              "      <td>Tim Seifert </td>\n",
              "      <td>1</td>\n",
              "      <td>41</td>\n",
              "      <td>30</td>\n",
              "      <td>8</td>\n",
              "      <td>0</td>\n",
              "      <td>136.67</td>\n",
              "      <td>m_29</td>\n",
              "      <td>Karachi Kings vs Peshawar Zalmi</td>\n",
              "      <td>Karachi Kings</td>\n",
              "      <td>8.2</td>\n",
              "    </tr>\n",
              "    <tr>\n",
              "      <th>361</th>\n",
              "      <td>4</td>\n",
              "      <td>Kieron Pollard</td>\n",
              "      <td>1</td>\n",
              "      <td>3</td>\n",
              "      <td>5</td>\n",
              "      <td>0</td>\n",
              "      <td>0</td>\n",
              "      <td>60.00</td>\n",
              "      <td>m_26</td>\n",
              "      <td>Karachi Kings vs Lahore Qalanders</td>\n",
              "      <td>Karachi Kings</td>\n",
              "      <td>3.6</td>\n",
              "    </tr>\n",
              "    <tr>\n",
              "      <th>178</th>\n",
              "      <td>3</td>\n",
              "      <td>Shadab Khan</td>\n",
              "      <td>1</td>\n",
              "      <td>6</td>\n",
              "      <td>8</td>\n",
              "      <td>0</td>\n",
              "      <td>0</td>\n",
              "      <td>75.00</td>\n",
              "      <td>m_13</td>\n",
              "      <td>Peshawar Zalmi vs Islamabad United</td>\n",
              "      <td>Islamabad United</td>\n",
              "      <td>4.5</td>\n",
              "    </tr>\n",
              "    <tr>\n",
              "      <th>143</th>\n",
              "      <td>5</td>\n",
              "      <td>Iftikhar Ahmed</td>\n",
              "      <td>1</td>\n",
              "      <td>0</td>\n",
              "      <td>1</td>\n",
              "      <td>0</td>\n",
              "      <td>0</td>\n",
              "      <td>0.00</td>\n",
              "      <td>m_11</td>\n",
              "      <td>Multan Sultans vs Quetta Gladiators</td>\n",
              "      <td>Multan Sultans</td>\n",
              "      <td>0.0</td>\n",
              "    </tr>\n",
              "    <tr>\n",
              "      <th>125</th>\n",
              "      <td>5</td>\n",
              "      <td>Jahandad Khan</td>\n",
              "      <td>1</td>\n",
              "      <td>12</td>\n",
              "      <td>9</td>\n",
              "      <td>0</td>\n",
              "      <td>1</td>\n",
              "      <td>133.33</td>\n",
              "      <td>m_10</td>\n",
              "      <td>Lahore Qalanders vs Karachi Kings</td>\n",
              "      <td>Lahore Qalanders</td>\n",
              "      <td>8.0</td>\n",
              "    </tr>\n",
              "  </tbody>\n",
              "</table>\n",
              "</div>"
            ],
            "text/plain": [
              "     Batting-Position     Player-Name  Out/Not Out  Runs  Balls  Fours  Sixes  \\\n",
              "402                 1   Tim Seifert             1    41     30      8      0   \n",
              "361                 4  Kieron Pollard            1     3      5      0      0   \n",
              "178                 3    Shadab Khan             1     6      8      0      0   \n",
              "143                 5  Iftikhar Ahmed            1     0      1      0      0   \n",
              "125                 5   Jahandad Khan            1    12      9      0      1   \n",
              "\n",
              "     Strike-Rate Match-id                                Match  \\\n",
              "402       136.67     m_29      Karachi Kings vs Peshawar Zalmi   \n",
              "361        60.00     m_26    Karachi Kings vs Lahore Qalanders   \n",
              "178        75.00     m_13   Peshawar Zalmi vs Islamabad United   \n",
              "143         0.00     m_11  Multan Sultans vs Quetta Gladiators   \n",
              "125       133.33     m_10    Lahore Qalanders vs Karachi Kings   \n",
              "\n",
              "                 Team  Runs-per-over  \n",
              "402     Karachi Kings            8.2  \n",
              "361     Karachi Kings            3.6  \n",
              "178  Islamabad United            4.5  \n",
              "143    Multan Sultans            0.0  \n",
              "125  Lahore Qalanders            8.0  "
            ]
          },
          "execution_count": 50,
          "metadata": {},
          "output_type": "execute_result"
        }
      ],
      "source": [
        "df.sample(5)"
      ]
    },
    {
      "cell_type": "markdown",
      "metadata": {
        "id": "X4nP9qRK0It2"
      },
      "source": [
        "## Data Visualization:"
      ]
    },
    {
      "cell_type": "markdown",
      "metadata": {
        "id": "KTYQT8F-0It3"
      },
      "source": [
        "##### It is the process of representing data in graphical or visual formats such as charts,graphs or maps."
      ]
    },
    {
      "cell_type": "code",
      "execution_count": 51,
      "metadata": {
        "id": "PQl33Bz00It3"
      },
      "outputs": [],
      "source": [
        "import matplotlib.pyplot as plt"
      ]
    },
    {
      "cell_type": "code",
      "execution_count": 52,
      "metadata": {
        "id": "WvY9c6Oq0It3"
      },
      "outputs": [],
      "source": [
        "import seaborn as sns"
      ]
    },
    {
      "cell_type": "markdown",
      "metadata": {
        "id": "nlm_EWTU0It3"
      },
      "source": [
        "### Plot the frequency of runs scored:"
      ]
    },
    {
      "cell_type": "markdown",
      "metadata": {
        "id": "abbbMd3e0It4"
      },
      "source": [
        "##### A bar plot is used to show the frequency of runs scored."
      ]
    },
    {
      "cell_type": "code",
      "execution_count": 66,
      "metadata": {
        "id": "5O9DFkSF0It4",
        "outputId": "b0bf530c-44cc-47df-c3c6-338c0fa38192"
      },
      "outputs": [
        {
          "data": {
            "image/png": "[encoded data removed]",
            "text/plain": [
              "<Figure size 1200x600 with 1 Axes>"
            ]
          },
          "metadata": {},
          "output_type": "display_data"
        }
      ],
      "source": [
        "df[\"Runs\"].value_counts().sort_index().plot(kind=\"bar\",figsize=(12,6))\n",
        "plt.title(\"Frequency of runs scored\")\n",
        "plt.xlabel(\"Runs\")\n",
        "plt.ylabel(\"Frequency\")\n",
        "plt.show()"
      ]
    },
    {
      "cell_type": "markdown",
      "metadata": {
        "id": "fQZ7gi7c0It8"
      },
      "source": [
        "### Plotting Runs vs Strike-rate:"
      ]
    },
    {
      "cell_type": "markdown",
      "metadata": {
        "id": "5oGHxYYL0It8"
      },
      "source": [
        "##### As there are so many values and it is difficult to understand graph. So we plot the graph of top 10 runs scored player with their strike-rates."
      ]
    },
    {
      "cell_type": "code",
      "execution_count": 59,
      "metadata": {
        "id": "iOwnelxx0It9"
      },
      "outputs": [],
      "source": [
        "top_10_scorers=df.nlargest(10, 'Runs')"
      ]
    },
    {
      "cell_type": "markdown",
      "metadata": {
        "id": "G65MQlWP0It9"
      },
      "source": [
        "##### .nlargest () method is used to select the rows with highest values in a specific column."
      ]
    },
    {
      "cell_type": "markdown",
      "metadata": {
        "id": "ZAcC8V270It9"
      },
      "source": [
        "##### A horizontal bar plot showing how many runs player scored vs their strike rates."
      ]
    },
    {
      "cell_type": "code",
      "execution_count": 60,
      "metadata": {
        "id": "vOX9a-cT0It-",
        "outputId": "eedf2ac9-cb0f-4a30-cfdf-4038a61634f7"
      },
      "outputs": [
        {
          "data": {
            "image/png": "[encoded data removed]",
            "text/plain": [
              "<Figure size 800x800 with 1 Axes>"
            ]
          },
          "metadata": {},
          "output_type": "display_data"
        }
      ],
      "source": [
        "top_10_scorers.sort_index().plot(kind=\"barh\", x='Strike-Rate', y='Runs', figsize=(8, 8), color='blue', alpha=0.7)\n",
        "plt.title('Runs vs Strike Rate')\n",
        "plt.ylabel('Strike Rate')\n",
        "plt.xlabel('Runs')\n",
        "plt.show()"
      ]
    },
    {
      "cell_type": "markdown",
      "metadata": {
        "id": "6iThamEk0It-"
      },
      "source": [
        "### To Plotting Batting position vs runs scored:"
      ]
    },
    {
      "cell_type": "markdown",
      "metadata": {
        "id": "1e3Gonx50It-"
      },
      "source": [
        "##### A box plot is used for batting position and run scored."
      ]
    },
    {
      "cell_type": "code",
      "execution_count": 61,
      "metadata": {
        "id": "Mt6tosXc0It_",
        "outputId": "0b862a6b-0ec0-4617-8d55-fd0e3e75cc6f"
      },
      "outputs": [
        {
          "data": {
            "image/png": "[encoded data removed]",
            "text/plain": [
              "<Figure size 1000x600 with 1 Axes>"
            ]
          },
          "metadata": {},
          "output_type": "display_data"
        }
      ],
      "source": [
        "plt.figure(figsize=(10, 6))\n",
        "sns.boxplot(x='Batting-Position', y='Runs', data=df)\n",
        "plt.title('Runs by Batting Position')\n",
        "plt.xlabel('Batting Position')\n",
        "plt.ylabel('Runs')\n",
        "plt.show()"
      ]
    },
    {
      "cell_type": "markdown",
      "metadata": {
        "id": "lFE6WfPX0It_"
      },
      "source": [
        "### To plot Runs vs Number of balls faced:"
      ]
    },
    {
      "cell_type": "markdown",
      "metadata": {
        "id": "QBMoYIeZ0It_"
      },
      "source": [
        "##### A Line graph is used for Runs vs Number of balls faced."
      ]
    },
    {
      "cell_type": "code",
      "execution_count": 62,
      "metadata": {
        "id": "_l1GHWM00IuA",
        "outputId": "ec5aba08-012d-4e70-aff7-32b765cb99bb"
      },
      "outputs": [
        {
          "data": {
            "text/plain": [
              "Text(0, 0.5, 'Average Runs')"
            ]
          },
          "execution_count": 62,
          "metadata": {},
          "output_type": "execute_result"
        },
        {
          "data": {
            "image/png": "[encoded data removed]",
            "text/plain": [
              "<Figure size 1000x600 with 1 Axes>"
            ]
          },
          "metadata": {},
          "output_type": "display_data"
        }
      ],
      "source": [
        "df.groupby('Balls')['Runs'].mean().plot(kind='line', figsize=(10, 6), marker='x', color='green')\n",
        "plt.title('Runs vs Balls Faced')\n",
        "plt.xlabel('Balls Faced')\n",
        "plt.ylabel('Average Runs')"
      ]
    },
    {
      "cell_type": "markdown",
      "metadata": {
        "id": "ZwSbJhfa0IuA"
      },
      "source": [
        "#### To plot Distribution of runs per over by team:"
      ]
    },
    {
      "cell_type": "markdown",
      "metadata": {
        "id": "bNjF71D50IuB"
      },
      "source": [
        "##### A violin plot is used for Distribution of runs per over by Team."
      ]
    },
    {
      "cell_type": "code",
      "execution_count": 63,
      "metadata": {
        "id": "K5rdxZcQ0IuB",
        "outputId": "b1a3d9a2-b84f-495d-bf2b-bb5891fbe583"
      },
      "outputs": [
        {
          "data": {
            "image/png": "[encoded data removed]",
            "text/plain": [
              "<Figure size 640x480 with 1 Axes>"
            ]
          },
          "metadata": {},
          "output_type": "display_data"
        }
      ],
      "source": [
        "sns.violinplot(x='Team', y='Runs-per-over', data=df)\n",
        "plt.title('Distribution of Runs-per-Over by Team')\n",
        "plt.xlabel('Team')\n",
        "plt.ylabel('Runs-per-Over')\n",
        "plt.show()"
      ]
    }
  ],
  "metadata": {
    "colab": {
      "collapsed_sections": [
        "0lxJVh6R0Isf",
        "qx5VkZKi0Is0",
        "G_mCXK-z0Is7",
        "MO4eLIjh0Is9",
        "-5Kze7IM0ItS",
        "QdGyMuHH0ItU",
        "PDtD2gRc0ItV",
        "Mx_7k0S60ItW",
        "YGk4QAkD0ItY",
        "kBl1t7gn0ItZ",
        "cYLa_Opc0Itf",
        "8DbYVcB90Ith",
        "y_i7tnM60Itj",
        "Wn4VkxRf0Itk",
        "zb50GRRm0Itm",
        "zWJc77Qr0Itp",
        "YaPAZSjW0Itz",
        "26k9myL00It1"
      ],
      "provenance": []
    },
    "kernelspec": {
      "display_name": "base",
      "language": "python",
      "name": "python3"
    },
    "language_info": {
      "codemirror_mode": {
        "name": "ipython",
        "version": 3
      },
      "file_extension": ".py",
      "mimetype": "text/x-python",
      "name": "python",
      "nbconvert_exporter": "python",
      "pygments_lexer": "ipython3",
      "version": "3.10.9"
    }
  },
  "nbformat": 4,
  "nbformat_minor": 0
}
